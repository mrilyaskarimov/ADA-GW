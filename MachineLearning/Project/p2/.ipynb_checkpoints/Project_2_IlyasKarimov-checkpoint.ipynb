{
 "cells": [
  {
   "cell_type": "markdown",
   "id": "9e0a4a5e",
   "metadata": {},
   "source": [
    "# ML 6364 Projet 2 - Submission"
   ]
  },
  {
   "cell_type": "markdown",
   "id": "d3cb6a28",
   "metadata": {},
   "source": [
    "**Individual Work**\n",
    "- Ilyas Karimov (ilyaskarimov@gwu.edu)"
   ]
  },
  {
   "cell_type": "markdown",
   "id": "725f79a9",
   "metadata": {},
   "source": [
    "## Importing Libraries\n"
   ]
  },
  {
   "cell_type": "code",
   "execution_count": 1,
   "id": "9bdaa5a8",
   "metadata": {},
   "outputs": [],
   "source": [
    "from torchvision import datasets, transforms\n",
    "import tensorflow as tf\n",
    "from torch.utils.data import random_split\n",
    "import torchvision.models as models\n",
    "import matplotlib.pyplot as plt\n",
    "import torch.nn.functional as F\n",
    "from torch import nn, optim\n",
    "import numpy as np\n",
    "import random\n",
    "import torch\n",
    "import os"
   ]
  },
  {
   "cell_type": "markdown",
   "id": "49595702",
   "metadata": {},
   "source": [
    "# Part 1"
   ]
  },
  {
   "cell_type": "markdown",
   "id": "cd69d979",
   "metadata": {},
   "source": [
    "Downloaded the image as compressed. I uncompressed them and erased all the folders except the followings: \n",
    "- n02109047-Great_Dane\n",
    "- n02094114-Norfolk_terrier\n",
    "- n02094258-Norwich_terrier"
   ]
  },
  {
   "cell_type": "markdown",
   "id": "0d4ddbee",
   "metadata": {},
   "source": [
    "# Part 2"
   ]
  },
  {
   "cell_type": "markdown",
   "id": "20d26a60",
   "metadata": {},
   "source": [
    "When splitting data, we usually have the same amount of data in validation and holdout datasets. Although in my case the difference between holdout and validation is negligible, they are still not of the same number of pictures. I first slit the original data into train and holdout data, in the ratio of 80% to 20%, respectively. Then I split about 20% of the training data for the validation data, and arranged the rest for the training dataset."
   ]
  },
  {
   "cell_type": "code",
   "execution_count": 2,
   "id": "8c2170b8",
   "metadata": {},
   "outputs": [],
   "source": [
    "train_path = \"./Train\"\n",
    "validation_path = \"./Validation\" \n",
    "holdout_path = \"./Holdout\"\n"
   ]
  },
  {
   "cell_type": "markdown",
   "id": "7a7c6d7e",
   "metadata": {},
   "source": [
    "### Discussion\n",
    "\n",
    "Transformations help which transforms can be applied to the images. Basically, I kept ColorJitter() which randomly alters brightness, contrast, saturation and hue of the images. Horizontal and Vertical flips flip the images horizonally and vertically. Resize() is used to make the image in a desired size. ToTensor() changes the RGB range (0-255) to 0-1 and changes it to tensor formal. "
   ]
  },
  {
   "cell_type": "code",
   "execution_count": 3,
   "id": "8dfdce68",
   "metadata": {},
   "outputs": [],
   "source": [
    "# Define a transformation metrics for the train\n",
    "transforms_details = [\n",
    "    transforms.RandomRotation(degrees=90),\n",
    "    transforms.ColorJitter(),\n",
    "    transforms.RandomHorizontalFlip(),\n",
    "    transforms.RandomVerticalFlip(),\n",
    "    transforms.Resize(size=[200,200]),\n",
    "    transforms.ToTensor(),\n",
    "    transforms.Normalize([0.485, 0.456, 0.406], [0.229, 0.224, 0.225])\n",
    "]"
   ]
  },
  {
   "cell_type": "code",
   "execution_count": 4,
   "id": "935eeb8f",
   "metadata": {},
   "outputs": [],
   "source": [
    "# Create a transform upon defined metrics\n",
    "transform  = transforms.Compose(transforms_details)\n",
    "\n",
    "# Load the training, validation and holdout data\n",
    "train_dataset  = datasets.ImageFolder(root=train_path, transform=transform)\n",
    "validation_dataset = datasets.ImageFolder(root=validation_path, transform=transform)\n",
    "holdout_dataset = datasets.ImageFolder(root=holdout_path, transform=transform)"
   ]
  },
  {
   "cell_type": "markdown",
   "id": "085de49d",
   "metadata": {},
   "source": [
    "### Discussions\n",
    "\n",
    "I used the batch_size as 32, shuffled the data and batch_size and drop_last options control how the data loader receives dataset key batches. The drop_last argument removes the last non-full batch from each worker's dataset replica."
   ]
  },
  {
   "cell_type": "code",
   "execution_count": 5,
   "id": "34f62c64",
   "metadata": {},
   "outputs": [],
   "source": [
    "train_loader      = torch.utils.data.DataLoader(train_dataset, batch_size=32, shuffle = True, drop_last=True)\n",
    "validation_loader = torch.utils.data.DataLoader(validation_dataset, batch_size=32,shuffle = True, drop_last=True)\n",
    "holdout_loader    = torch.utils.data.DataLoader(holdout_dataset, batch_size=32, shuffle = True, drop_last=True)\n",
    "\n",
    "# sampler= is kept empty"
   ]
  },
  {
   "cell_type": "markdown",
   "id": "04133b58",
   "metadata": {},
   "source": [
    "## Part 3"
   ]
  },
  {
   "cell_type": "markdown",
   "id": "6e8b7459",
   "metadata": {},
   "source": [
    "### Discussion\n",
    "\n",
    "Checking out the https://pytorch.org/vision/stable/models.html, according to one publication (https://openaccess.thecvf.com/content/WACV2021/papers/Zhang_ResNet_or_DenseNet_Introducing_Dense_Shortcuts_to_ResNet_WACV_2021_paper.pdf), when compared to ResNet, Dense summation from the aggregate output outperforms that from the convolutional block output. Therefore, densenet was the choice. I had problems with the dropout in VGG19, therefore, I switched to Densenet later. "
   ]
  },
  {
   "cell_type": "code",
   "execution_count": 6,
   "id": "65d442cf",
   "metadata": {},
   "outputs": [
    {
     "name": "stderr",
     "output_type": "stream",
     "text": [
      "Using cache found in /Users/ilyaskarimov/.cache/torch/hub/pytorch_vision_v0.10.0\n"
     ]
    }
   ],
   "source": [
    "model = torch.hub.load('pytorch/vision:v0.10.0', 'densenet169', pretrained=True)"
   ]
  },
  {
   "cell_type": "markdown",
   "id": "4cc120ae",
   "metadata": {},
   "source": [
    "### Small Discussion\n",
    "I have found to ways to freeze in PyTorch when training: \n",
    "1. By setting requires_grad to False\n",
    "2. Learning rate to zero \n"
   ]
  },
  {
   "cell_type": "code",
   "execution_count": 7,
   "id": "fdde26f5",
   "metadata": {},
   "outputs": [],
   "source": [
    "for param in model.parameters():\n",
    "    param.requires_grad = False"
   ]
  },
  {
   "cell_type": "markdown",
   "id": "72ddb64b",
   "metadata": {},
   "source": [
    "### Discussion about sequential, dropout, activation function. \n",
    "\n",
    "I started by replacing sequential layers. Softmax and logsoftmax were available as the activation functions, however I discovered that while the performance is identical, softmax penalizes larger mistakes. I continued with LogSoftmax. Ensemble learning is a typical method of gaining model resilience in deep learning. It involves training a number of models and averaging their results. Because training a single neural network already requires a lot of time and processing resources, this approach would be prohibitively expensive. These issues are alleviated by dropping out. In my example, the dropout rate is set to 20%, which means that one out of every five inputs will be omitted from each update cycle at random."
   ]
  },
  {
   "cell_type": "code",
   "execution_count": 46,
   "id": "a03cd311",
   "metadata": {},
   "outputs": [],
   "source": [
    "# Let's make the sequential layer(s) to predict our three classes. \n",
    "model.classifier = nn.Sequential(nn.Linear(1664, 256),\n",
    "                                 nn.ReLU(),\n",
    "                                 nn.Dropout(p=0.2), \n",
    "                                 nn.Linear(256, 3),\n",
    "                                 nn.LogSoftmax(dim=1))"
   ]
  },
  {
   "cell_type": "markdown",
   "id": "6d8fdc3d",
   "metadata": {},
   "source": [
    "### Discussion about Normalization\n",
    "\n",
    "\"An output of the previous layer acts as an input of the second layer by using composite function operation. This composite operation consists of the convolution layer, pooling layer, batch normalization, and non-linear activation layer\" from https://www.pluralsight.com/guides/introduction-to-densenet-with-tensorflow. \n",
    "\n",
    "Since it does the batch normalization, I do not see the point of doing so for the second time. Therefore, I won't be doing the batch normalization as it has been there by default"
   ]
  },
  {
   "cell_type": "markdown",
   "id": "13f5d447",
   "metadata": {},
   "source": [
    "### Discussion of Optimizer\n",
    "SGD is a gradient descent variation. When the learning rate is small, SGD delivers the same results as standard gradient descent. Adam is a stochastic objective function optimization technique based on gradients. It computes specific adaptive learning rates for different parameters by combining the benefits of two SGD extensions, Root Mean Square Propagation (RMSProp) and Adaptive Gradient Algorithm. Therefore, I will be going with Adam model. "
   ]
  },
  {
   "cell_type": "code",
   "execution_count": 47,
   "id": "c189e7e9",
   "metadata": {},
   "outputs": [],
   "source": [
    "optimizer = torch.optim.Adam(model.parameters(), lr=0.001)"
   ]
  },
  {
   "cell_type": "markdown",
   "id": "58c0b9fc",
   "metadata": {},
   "source": [
    "### Discussion of Loss function\n",
    "I compared loss functions after checking https://neptune.ai/blog/pytorch-loss-functions,  and as the article suggests, other loss functions, such as the squared loss, may punish inaccurate forecasts. Being overconfident and wrong is heavily penalized by Cross-Entropy. Therefore, my schoices "
   ]
  },
  {
   "cell_type": "code",
   "execution_count": 48,
   "id": "f0d8e9f1",
   "metadata": {},
   "outputs": [],
   "source": [
    "loss_criterion = torch.nn.CrossEntropyLoss()"
   ]
  },
  {
   "cell_type": "code",
   "execution_count": 49,
   "id": "b2ec9c90",
   "metadata": {},
   "outputs": [
    {
     "name": "stdout",
     "output_type": "stream",
     "text": [
      "2\n"
     ]
    }
   ],
   "source": [
    "# Move the input and model to GPU for speed if available \n",
    "if torch.cuda.is_available():\n",
    "    epochs = 20\n",
    "else:\n",
    "    epochs = 2\n",
    "    \n",
    "print(epochs)\n",
    "device = torch.device('cuda:0' if torch.cuda.is_available() else 'cpu')"
   ]
  },
  {
   "cell_type": "markdown",
   "id": "3699fdc0",
   "metadata": {},
   "source": [
    "## Part 4"
   ]
  },
  {
   "cell_type": "code",
   "execution_count": 50,
   "id": "1a0fab86",
   "metadata": {},
   "outputs": [
    {
     "name": "stdout",
     "output_type": "stream",
     "text": [
      "Epoch: 1 / 20\n",
      "Training loss: 0.02904396001249552\n",
      "Training accuracy tensor(0.5188)\n",
      "Validation loss: 0.02345273271203041\n",
      "Validation accuracy tensor(0.6979)\n",
      "Epoch: 2 / 20\n",
      "Training loss: 0.01755490154027939\n",
      "Training accuracy tensor(0.7219)\n",
      "Validation loss: 0.021479298919439317\n",
      "Validation accuracy tensor(0.6458)\n",
      "Epoch: 3 / 20\n",
      "Training loss: 0.014377741888165475\n",
      "Training accuracy tensor(0.7719)\n",
      "Validation loss: 0.016633976995944978\n",
      "Validation accuracy tensor(0.7500)\n",
      "Epoch: 4 / 20\n",
      "Training loss: 0.014202391728758812\n",
      "Training accuracy tensor(0.7937)\n",
      "Validation loss: 0.0150503009557724\n",
      "Validation accuracy tensor(0.8750)\n",
      "Epoch: 5 / 20\n",
      "Training loss: 0.011830385401844978\n",
      "Training accuracy tensor(0.8500)\n",
      "Validation loss: 0.01945601627230644\n",
      "Validation accuracy tensor(0.7708)\n",
      "Epoch: 6 / 20\n",
      "Training loss: 0.010584905650466681\n",
      "Training accuracy tensor(0.8406)\n",
      "Validation loss: 0.01880054883658886\n",
      "Validation accuracy tensor(0.8125)\n",
      "Epoch: 7 / 20\n",
      "Training loss: 0.011774890869855881\n",
      "Training accuracy tensor(0.8188)\n",
      "Validation loss: 0.014517266303300858\n",
      "Validation accuracy tensor(0.8438)\n",
      "Epoch: 8 / 20\n",
      "Training loss: 0.01084602838382125\n",
      "Training accuracy tensor(0.8562)\n",
      "Validation loss: 0.01696786917746067\n",
      "Validation accuracy tensor(0.7812)\n",
      "Epoch: 9 / 20\n",
      "Training loss: 0.008493974478915334\n",
      "Training accuracy tensor(0.8938)\n",
      "Validation loss: 0.01635305881500244\n",
      "Validation accuracy tensor(0.8021)\n",
      "Epoch: 10 / 20\n",
      "Training loss: 0.009310596203431488\n",
      "Training accuracy tensor(0.8625)\n",
      "Validation loss: 0.015252864733338357\n",
      "Validation accuracy tensor(0.8229)\n",
      "Epoch: 11 / 20\n",
      "Training loss: 0.008826399408280849\n",
      "Training accuracy tensor(0.8781)\n",
      "Validation loss: 0.02211414761841297\n",
      "Validation accuracy tensor(0.7604)\n",
      "Epoch: 12 / 20\n",
      "Training loss: 0.010166487703099848\n",
      "Training accuracy tensor(0.8438)\n",
      "Validation loss: 0.013724080100655556\n",
      "Validation accuracy tensor(0.8438)\n",
      "Epoch: 13 / 20\n",
      "Training loss: 0.011247888393700122\n",
      "Training accuracy tensor(0.8344)\n",
      "Validation loss: 0.016353069618344308\n",
      "Validation accuracy tensor(0.7604)\n",
      "Epoch: 14 / 20\n",
      "Training loss: 0.00964115431997925\n",
      "Training accuracy tensor(0.8781)\n",
      "Validation loss: 0.015219551324844361\n",
      "Validation accuracy tensor(0.8438)\n",
      "Epoch: 15 / 20\n",
      "Training loss: 0.008639202825725079\n",
      "Training accuracy tensor(0.8781)\n",
      "Validation loss: 0.014424651116132736\n",
      "Validation accuracy tensor(0.7917)\n",
      "Epoch: 16 / 20\n",
      "Training loss: 0.009091403521597385\n",
      "Training accuracy tensor(0.8750)\n",
      "Validation loss: 0.015524616464972496\n",
      "Validation accuracy tensor(0.8229)\n",
      "Epoch: 17 / 20\n",
      "Training loss: 0.008572308532893657\n",
      "Training accuracy tensor(0.8875)\n",
      "Validation loss: 0.013379495404660702\n",
      "Validation accuracy tensor(0.8646)\n",
      "Epoch: 18 / 20\n",
      "Training loss: 0.009108126070350409\n",
      "Training accuracy tensor(0.8625)\n",
      "Validation loss: 0.012084786966443061\n",
      "Validation accuracy tensor(0.8438)\n",
      "Epoch: 19 / 20\n",
      "Training loss: 0.007691007759422064\n",
      "Training accuracy tensor(0.9094)\n",
      "Validation loss: 0.011986937746405602\n",
      "Validation accuracy tensor(0.8646)\n",
      "Epoch: 20 / 20\n",
      "Training loss: 0.00842032190412283\n",
      "Training accuracy tensor(0.8687)\n",
      "Validation loss: 0.015969271957874297\n",
      "Validation accuracy tensor(0.8438)\n"
     ]
    }
   ],
   "source": [
    "training_losses = []\n",
    "validation_losses = []\n",
    "\n",
    "training_accuracies = []\n",
    "validation_accuracies = []\n",
    "epochs = 20\n",
    "#I will still manually set epochs to 20. \n",
    "for epoch in range(epochs):\n",
    "    \n",
    "    running_loss = 0\n",
    "    training_accuracy = 0\n",
    "    \n",
    "    print(\"Epoch:\", epoch + 1, \"/\", epochs)\n",
    "    \n",
    "    model.train()\n",
    "    for images_batch, labels in train_loader:\n",
    "        images_batch, labels = images_batch.to(device), labels.to(device)\n",
    "        predictions = model.forward(images_batch)\n",
    "        loss = loss_criterion(predictions, labels)\n",
    "        \n",
    "        optimizer.zero_grad()\n",
    "        loss.backward()\n",
    "        optimizer.step()\n",
    "        running_loss += loss.item()\n",
    "        \n",
    "        ps = torch.exp(predictions)\n",
    "        equality = (labels.data == ps.max(dim=1)[1])\n",
    "        training_accuracy += equality.type(torch.FloatTensor).mean()\n",
    "        \n",
    "    \n",
    "    train_loss = running_loss / len(train_loader.dataset)\n",
    "    training_losses.append(train_loss)\n",
    "    training_accuracies.append(training_accuracy/len(train_loader))\n",
    "    \n",
    "    print(\"Training loss:\", train_loss)\n",
    "    print(\"Training accuracy\", training_accuracy/len(train_loader))\n",
    "    \n",
    "    \n",
    "    running_loss = 0\n",
    "    validation_accuracy = 0\n",
    "    \n",
    "    model.eval()\n",
    "    with torch.no_grad():\n",
    "        for images_batch, labels in validation_loader:\n",
    "            images_batch, labels = images_batch.to(device), labels.to(device)\n",
    "            predictions = model.forward(images_batch)\n",
    "            loss = loss_criterion(predictions, labels)\n",
    "            running_loss += loss.item()\n",
    "\n",
    "            ps = torch.exp(predictions)\n",
    "            equality = (labels.data == ps.max(dim=1)[1])\n",
    "            validation_accuracy += equality.type(torch.FloatTensor).mean()\n",
    "            \n",
    "\n",
    "    validation_loss = running_loss/len(validation_loader.dataset)\n",
    "    validation_losses.append(validation_loss)\n",
    "    validation_accuracies.append(validation_accuracy/len(validation_loader))\n",
    "    \n",
    "    print(\"Validation loss:\", validation_loss)\n",
    "    print(\"Validation accuracy\", validation_accuracy/len(validation_loader))\n",
    "    "
   ]
  },
  {
   "cell_type": "code",
   "execution_count": 51,
   "id": "64b672bf",
   "metadata": {
    "scrolled": true
   },
   "outputs": [
    {
     "name": "stdout",
     "output_type": "stream",
     "text": [
      "training losses:\n",
      "[0.02904396001249552, 0.01755490154027939, 0.014377741888165475, 0.014202391728758812, 0.011830385401844978, 0.010584905650466681, 0.011774890869855881, 0.01084602838382125, 0.008493974478915334, 0.009310596203431488, 0.008826399408280849, 0.010166487703099848, 0.011247888393700122, 0.00964115431997925, 0.008639202825725079, 0.009091403521597385, 0.008572308532893657, 0.009108126070350409, 0.007691007759422064, 0.00842032190412283]\n",
      "validation losses:\n",
      "[0.02345273271203041, 0.021479298919439317, 0.016633976995944978, 0.0150503009557724, 0.01945601627230644, 0.01880054883658886, 0.014517266303300858, 0.01696786917746067, 0.01635305881500244, 0.015252864733338357, 0.02211414761841297, 0.013724080100655556, 0.016353069618344308, 0.015219551324844361, 0.014424651116132736, 0.015524616464972496, 0.013379495404660702, 0.012084786966443061, 0.011986937746405602, 0.015969271957874297]\n"
     ]
    }
   ],
   "source": [
    "print(\"training losses:\")\n",
    "print(training_losses)\n",
    "\n",
    "print(\"validation losses:\")\n",
    "print(validation_losses)"
   ]
  },
  {
   "cell_type": "markdown",
   "id": "9273e1ea",
   "metadata": {},
   "source": [
    "## Part 5"
   ]
  },
  {
   "cell_type": "markdown",
   "id": "ea747a0d",
   "metadata": {},
   "source": [
    "### Discussion about Model, Performance, Result and How to improve\n",
    "\n",
    "My validation loss is always higher than my training loss even I trained on 20 epochs and overfitting occurs when validation_data is greater than training_data. But what we observe is that generalization is somehow still happening.  We can see the generalization happening in the accuracy. Looking at the results, in epoch 3 we almost had accuracies under 0.82 but we can see that for the later epochs, the accuracies are increasing.  Perhaps my model is not complex enough, meaning I need to do regularization. \n",
    "To do regularization, I need to:\n",
    "- Add more data\n",
    "- Limit the magnitude of weights to a certain range or a certain limit.\n",
    "- Stop early ( I dont think this is relevant for my case) "
   ]
  },
  {
   "cell_type": "code",
   "execution_count": 52,
   "id": "6d347959",
   "metadata": {
    "scrolled": true
   },
   "outputs": [
    {
     "data": {
      "image/png": "[encoded data removed]",
      "text/plain": [
       "<Figure size 432x288 with 1 Axes>"
      ]
     },
     "metadata": {
      "needs_background": "light"
     },
     "output_type": "display_data"
    }
   ],
   "source": [
    "plt.plot(training_losses, label='Training loss')\n",
    "plt.plot(validation_losses, label='Validation loss')\n",
    "plt.xlabel('Epochs')\n",
    "plt.ylabel('Loss')\n",
    "plt.legend()\n",
    "plt.show()"
   ]
  },
  {
   "cell_type": "code",
   "execution_count": 54,
   "id": "d4a718d0",
   "metadata": {},
   "outputs": [
    {
     "data": {
      "image/png": "[encoded data removed]",
      "text/plain": [
       "<Figure size 432x288 with 1 Axes>"
      ]
     },
     "metadata": {
      "needs_background": "light"
     },
     "output_type": "display_data"
    }
   ],
   "source": [
    "plt.plot(training_accuracies, label='Training accuracy')\n",
    "plt.plot(validation_accuracies, label='Validation accuracy')\n",
    "plt.xlabel('Epochs')\n",
    "plt.ylabel('Accuracies')\n",
    "plt.legend()\n",
    "plt.show()"
   ]
  },
  {
   "cell_type": "code",
   "execution_count": null,
   "id": "4de9adeb",
   "metadata": {},
   "outputs": [],
   "source": [
    "holdout_accuracy = 0\n",
    "\n",
    "for image_batch in iter(holdout_loader):\n",
    "    images, labels = image_batch\n",
    "    predictions = model.forward(images)\n",
    "    loss = loss_criterion(predictions, labels)\n",
    "    running_loss += loss.item()\n",
    "\n",
    "    ps = torch.exp(predictions)\n",
    "    equality = (labels.data == ps.max(dim=1)[1])\n",
    "    holdout_accuracy += equality.type(torch.FloatTensor).mean()\n",
    "\n",
    "print(\"Holdout accuracy:\", (holdout_accuracy/len(holdout_loader)))"
   ]
  },
  {
   "cell_type": "markdown",
   "id": "f1b3929a",
   "metadata": {},
   "source": [
    "### Discussion of Article\n",
    "\n",
    "The goal of this article is to identify giant dog breeds, which is made more complicated and difficult by the fact that dog breeds cross and have a lot of intra-class variety. Stanford University created the dataset, which included 120 classes and 22000 image units. Each image is at least 200x200 pixels, and the breeds is confirmed using Wikipedia information. Duplicate images have been erased from the data. In each class, 100 images can be used for training and at least 50 images holdouts. Paper suggests that if training images for each class are fewer than 100, repeat the process 10 times to get an average result. Overall, it is not reported in the paper, therefore, I cannot compare my results with theirs. The link they provided for the results only have on graph which talks about mean accuracy"
   ]
  }
 ],
 "metadata": {
  "kernelspec": {
   "display_name": "Python 3",
   "language": "python",
   "name": "python3"
  },
  "language_info": {
   "codemirror_mode": {
    "name": "ipython",
    "version": 3
   },
   "file_extension": ".py",
   "mimetype": "text/x-python",
   "name": "python",
   "nbconvert_exporter": "python",
   "pygments_lexer": "ipython3",
   "version": "3.8.8"
  }
 },
 "nbformat": 4,
 "nbformat_minor": 5
}
