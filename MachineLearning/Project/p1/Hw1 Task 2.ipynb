{
 "cells": [
  {
   "cell_type": "code",
   "execution_count": 1,
   "id": "f8ab5e1a",
   "metadata": {},
   "outputs": [],
   "source": [
    "import pandas as pd\n"
   ]
  },
  {
   "cell_type": "code",
   "execution_count": 2,
   "id": "73183b35-232f-46ef-a9fa-cd85ea7d1d62",
   "metadata": {},
   "outputs": [],
   "source": [
    "var = 'cnnbusinessmicrosofthasasolutionforthefamiliarproblemofneedingtoremembertoomanypasswordsdoingawaywiththemaltogetherthecompanyannouncedwednesdaythatitwillintroduceapasswordlessaccountoptiontorallusersofseveralpopularservicessuchasmicrosoftoutlookandmicrosoftonedriveinthecomingweeksmicrosoftpreviouslymadethisoptionavailabletocorporateaccountsinmarchyoucannowcompletelyremovethepasswordfromyourmicrosoftaccountvasujakkalthecompanyscorporatevicepresidentotsecuritycomplianceandidentitywroteinablogpostwednesdayinsteadotpasswordsmicrosottmsttwillletuserssignintotheseserviceswitheitherthecompanysauthenticatorappwhichproducesauniyuenumberedlogincodeeverytewsecondsorwithwindowshellowhichletsuserssigninusingtacialrecognitionatingerprintorauniyuepinmicrosottuserscanalsobuyanexternalsecuritykeylikeausbdrivewithloginintormationstoredonitorregisteraphonenumbertowhichmicrosottsendsaveriticationcodethechangetrommicrosottcomesatteraspikeincyberattacksoverthepastyearwiththemajorityotcorporateemployeesworkingtromhomebecauseotthecoronaviruspandemichackershavemanymoreavenuestointiltrateacompanyssystemsandcompromisingpasswordsisoneottheirmostcommonstrategiesmicrosotthasalsohaditsshareotsecurityissuesinrecentmonthswithitsserviceslinkedtomultiplehighprotilehacksandbreachespasswordscanottenenduptorsaleonthedarkwebwheretheyareboughtandusedtohackevenmoreserviceshackershaveevengoneatterpasswordmanagersthataimtomakelogindatamoresecurewithpopularservicelastpasshackedintwozeroonetiveaccordingtomicrosotttivesevenninepasswordattackstakeplaceeverysecondaddinguptooneeightbillionattacksayearandcybersecurityexpertshavesaidtheweakestlinkishumanbehaviorourtendencytoreusethesamepasswordacrossaccountssoitseasytorememberorcreatepatternstorditterentpasswordsthatareeasytorhackerstoguessweakpasswordsaretheentrypointtorthemajorityotattacksacrossenterpriseandconsumeraccountsjakkalsaidmicrosottappearstobeleadingbyexampleinitsettorttopioneerapasswordlesstutureaccordingtojakkalalmostallotthecompanysownemployeesnowlogintotheircorporateaccountswithoutpasswordsothercompaniessuchasgooglegooglandappleaaplalsootterpasswordalternativessendinganotiticationonanotherdevicetoverityyouridentitytorexamplebutthosesolutionshaventcompletelyreplacedtheneedtotypeoutapasswordjustyet'\n",
    "var += \" \"*(5 - len(var)%5)"
   ]
  },
  {
   "cell_type": "code",
   "execution_count": 3,
   "id": "94be4a98",
   "metadata": {},
   "outputs": [],
   "source": [
    "df = pd.DataFrame(columns = ['2', '3', '4', '1', '5'])"
   ]
  },
  {
   "cell_type": "code",
   "execution_count": 4,
   "id": "2078768b",
   "metadata": {},
   "outputs": [],
   "source": [
    "start = index = 0\n",
    "for stop in range(5, len(var) + 1, len(df.columns)):\n",
    "    try:\n",
    "        df.loc[index] = [char for char in var[start:stop]]\n",
    "\n",
    "        start  = stop\n",
    "        index += 1 \n",
    "    except:\n",
    "        pass"
   ]
  },
  {
   "cell_type": "code",
   "execution_count": 5,
   "id": "83fde7c7",
   "metadata": {},
   "outputs": [
    {
     "data": {
      "text/html": [
       "<div>\n",
       "<style scoped>\n",
       "    .dataframe tbody tr th:only-of-type {\n",
       "        vertical-align: middle;\n",
       "    }\n",
       "\n",
       "    .dataframe tbody tr th {\n",
       "        vertical-align: top;\n",
       "    }\n",
       "\n",
       "    .dataframe thead th {\n",
       "        text-align: right;\n",
       "    }\n",
       "</style>\n",
       "<table border=\"1\" class=\"dataframe\">\n",
       "  <thead>\n",
       "    <tr style=\"text-align: right;\">\n",
       "      <th></th>\n",
       "      <th>2</th>\n",
       "      <th>3</th>\n",
       "      <th>4</th>\n",
       "      <th>1</th>\n",
       "      <th>5</th>\n",
       "    </tr>\n",
       "  </thead>\n",
       "  <tbody>\n",
       "    <tr>\n",
       "      <th>0</th>\n",
       "      <td>c</td>\n",
       "      <td>n</td>\n",
       "      <td>n</td>\n",
       "      <td>b</td>\n",
       "      <td>u</td>\n",
       "    </tr>\n",
       "    <tr>\n",
       "      <th>1</th>\n",
       "      <td>s</td>\n",
       "      <td>i</td>\n",
       "      <td>n</td>\n",
       "      <td>e</td>\n",
       "      <td>s</td>\n",
       "    </tr>\n",
       "    <tr>\n",
       "      <th>2</th>\n",
       "      <td>s</td>\n",
       "      <td>m</td>\n",
       "      <td>i</td>\n",
       "      <td>c</td>\n",
       "      <td>r</td>\n",
       "    </tr>\n",
       "    <tr>\n",
       "      <th>3</th>\n",
       "      <td>o</td>\n",
       "      <td>s</td>\n",
       "      <td>o</td>\n",
       "      <td>f</td>\n",
       "      <td>t</td>\n",
       "    </tr>\n",
       "    <tr>\n",
       "      <th>4</th>\n",
       "      <td>h</td>\n",
       "      <td>a</td>\n",
       "      <td>s</td>\n",
       "      <td>a</td>\n",
       "      <td>s</td>\n",
       "    </tr>\n",
       "    <tr>\n",
       "      <th>...</th>\n",
       "      <td>...</td>\n",
       "      <td>...</td>\n",
       "      <td>...</td>\n",
       "      <td>...</td>\n",
       "      <td>...</td>\n",
       "    </tr>\n",
       "    <tr>\n",
       "      <th>446</th>\n",
       "      <td>p</td>\n",
       "      <td>e</td>\n",
       "      <td>o</td>\n",
       "      <td>u</td>\n",
       "      <td>t</td>\n",
       "    </tr>\n",
       "    <tr>\n",
       "      <th>447</th>\n",
       "      <td>a</td>\n",
       "      <td>p</td>\n",
       "      <td>a</td>\n",
       "      <td>s</td>\n",
       "      <td>s</td>\n",
       "    </tr>\n",
       "    <tr>\n",
       "      <th>448</th>\n",
       "      <td>w</td>\n",
       "      <td>o</td>\n",
       "      <td>r</td>\n",
       "      <td>d</td>\n",
       "      <td>j</td>\n",
       "    </tr>\n",
       "    <tr>\n",
       "      <th>449</th>\n",
       "      <td>u</td>\n",
       "      <td>s</td>\n",
       "      <td>t</td>\n",
       "      <td>y</td>\n",
       "      <td>e</td>\n",
       "    </tr>\n",
       "    <tr>\n",
       "      <th>450</th>\n",
       "      <td>t</td>\n",
       "      <td></td>\n",
       "      <td></td>\n",
       "      <td></td>\n",
       "      <td></td>\n",
       "    </tr>\n",
       "  </tbody>\n",
       "</table>\n",
       "<p>451 rows × 5 columns</p>\n",
       "</div>"
      ],
      "text/plain": [
       "     2  3  4  1  5\n",
       "0    c  n  n  b  u\n",
       "1    s  i  n  e  s\n",
       "2    s  m  i  c  r\n",
       "3    o  s  o  f  t\n",
       "4    h  a  s  a  s\n",
       "..  .. .. .. .. ..\n",
       "446  p  e  o  u  t\n",
       "447  a  p  a  s  s\n",
       "448  w  o  r  d  j\n",
       "449  u  s  t  y  e\n",
       "450  t            \n",
       "\n",
       "[451 rows x 5 columns]"
      ]
     },
     "execution_count": 5,
     "metadata": {},
     "output_type": "execute_result"
    }
   ],
   "source": [
    "df"
   ]
  },
  {
   "cell_type": "code",
   "execution_count": 6,
   "id": "db15d64b",
   "metadata": {},
   "outputs": [],
   "source": [
    "# df = pd.DataFrame([string], columns=['string_values'])"
   ]
  },
  {
   "cell_type": "code",
   "execution_count": 7,
   "id": "e809ae65",
   "metadata": {},
   "outputs": [],
   "source": [
    "empty_str = \"\"\n",
    "\n",
    "for row in df['1']:\n",
    "    empty_str += row\n",
    "    \n",
    "for row in df['2']:\n",
    "    empty_str += row\n",
    "    \n",
    "for row in df['3']:\n",
    "    empty_str += row\n",
    "    \n",
    "for row in df['4']:\n",
    "    empty_str += row\n",
    "    \n",
    "for row in df['5']:\n",
    "    empty_str += row\n"
   ]
  },
  {
   "cell_type": "code",
   "execution_count": 8,
   "id": "987033ce",
   "metadata": {},
   "outputs": [],
   "source": [
    "empty_str = empty_str.replace(' ', '')"
   ]
  },
  {
   "cell_type": "code",
   "execution_count": 9,
   "id": "038df0f3",
   "metadata": {
    "scrolled": false
   },
   "outputs": [
    {
     "data": {
      "text/plain": [
       "'becfatofioodomoywdaieoecnodettidposoptlsvpavssooomsnvhiecfvleonltpeunhacerearmmsctjloypepdtroannwioteiaarcttlegoeiithpantphuueeooewnwisohusngaoiipoiirtslytlreedwonasdoiaeehionecntarcteeicakraahatoapekrmatovpmcharnolepsmconsseesmrictaasouiscowtvldleplkbhsdoetlhkhhehuoeorsevnaponsamoarutueepaiznertrtsnaraaaecdunhltsryeteaiwskmhrecehewcaniseerprrepohetctskwaeythooacepanruasioptegaietoawetcijlsocnnongtcrctharhmehoonllopottsntaotetiuntabolnemepdetusdycssohootmrlnneemariahaetmanedaitcsdanirsfrpscciotacfdicgsopomhtvbcrctaonmemhsfocfoakhpcrienetpciioapedsossomitsiheehecntirhreiueieyestdeheegsarnngiaumssaonretluitioionrthutcrtsitoegmocaaebtohtwhoopeownmbshorncevyaenrcnsamipostrcntsohsiasisnnttscnoiiohaeswctdroderyoaeaeeiaseotsdghmkiasepavasktrtcimsivnsakeeyniteboayneuetetalsnvudtssarocssteoatsiesdtaregwarenoomiakotiductkirtabdypitoearsrogklatmsmewnertowussrasslgaaltsdrvnatiaeivyiirptethtlyahdpawutnimsalnhipeegmrasdnytlthpncdatlreslctoaesaueehcflnrtrnowmsruaiialoacsruoploewrurtuskeaoacstcyledttbodattwmsslusnerseroyhcaiosymdnetcoholitrniceiaenueioenbencyisvhnrorieeomohosatidcemsotsieaveyiertoeyogheeenudhremvstaoytnpsarotmosemsaotreturthheekmpgtanapoaeusnabeaundcnscchvnesmeatenmeworissewoicnioveewtspesdnoiincedrrxsshkihbireoeasdsoseomrttttnssashruesdttirattssescmcsadoareieltopesdtertkmlhpopeltipeuitwocnugelpasesanednionrceydteltsiacerceteposnniosufelrmetetnssgwhtheanenyiloaweconlrellrsartodooitmeioesdsoiertoiccwlyvpooroanuacnrteiouciaeyelsnyepoiotlsitsvwitmseapcdaublcveorwwlcssinicttrtnpctrauxaukkbelimnetgrnbwmsevioehtiomtpnrcepetmicrmertococaseasmoetitmsedrisdnhomtgioshsecyeemsirseulhicdcarnnpatrwtrgdtkmeekaeerwartoldocipscthdoovogctenpottlveagoglakacsiphaeenueotnrtmsasuoarbceeottwtryaseasshrntjytasreoeojlmspslnxesrirsluadoaoleawlsooroantpotoicogapporwlasiocnoderoeyxehoovoteenooartusrtsiraabfirbopoowtmgroyuwshwnuarsutouoeoriumsukioeeenkrtiytpaaooanmynotetsdyiocvatmsovresimndtrngwsndsdrtwerntsctheautowpcnnrgdrsdinhwlsiutlgonrrynoucsaesiyarigtttorspnrictdrachnortsrkytstsrtjyrtlsioeutriaikaneuitaaysomgwioitoaertldhtrsienisiitthresresstnoeeweebtshvrvhregtaratiagterhlrlacneeadooteisdckcrodpetitaabcyrvdetiaaonyueporcttymreandraraeokosporeptertcrnrnsankacteoabmnttnposucnaattoyeyoihoacsosdepsagodeatareiegitnhvotrtomususnpllteytsje'"
      ]
     },
     "execution_count": 9,
     "metadata": {},
     "output_type": "execute_result"
    }
   ],
   "source": [
    "empty_str"
   ]
  },
  {
   "cell_type": "code",
   "execution_count": 10,
   "id": "94ae6f2a",
   "metadata": {},
   "outputs": [
    {
     "data": {
      "text/plain": [
       "'cnnbusinessmicrosofthasasolutionforthefamiliarproblemofneedingtoremembertoomanypasswordsdoingawaywiththemaltogetherthecompanyannouncedwednesdaythatitwillintroduceapasswordlessaccountoptiontorallusersofseveralpopularservicessuchasmicrosoftoutlookandmicrosoftonedriveinthecomingweeksmicrosoftpreviouslymadethisoptionavailabletocorporateaccountsinmarchyoucannowcompletelyremovethepasswordfromyourmicrosoftaccountvasujakkalthecompanyscorporatevicepresidentotsecuritycomplianceandidentitywroteinablogpostwednesdayinsteadotpasswordsmicrosottmsttwillletuserssignintotheseserviceswitheitherthecompanysauthenticatorappwhichproducesauniyuenumberedlogincodeeverytewsecondsorwithwindowshellowhichletsuserssigninusingtacialrecognitionatingerprintorauniyuepinmicrosottuserscanalsobuyanexternalsecuritykeylikeausbdrivewithloginintormationstoredonitorregisteraphonenumbertowhichmicrosottsendsaveriticationcodethechangetrommicrosottcomesatteraspikeincyberattacksoverthepastyearwiththemajorityotcorporateemployeesworkingtromhomebecauseotthecoronaviruspandemichackershavemanymoreavenuestointiltrateacompanyssystemsandcompromisingpasswordsisoneottheirmostcommonstrategiesmicrosotthasalsohaditsshareotsecurityissuesinrecentmonthswithitsserviceslinkedtomultiplehighprotilehacksandbreachespasswordscanottenenduptorsaleonthedarkwebwheretheyareboughtandusedtohackevenmoreserviceshackershaveevengoneatterpasswordmanagersthataimtomakelogindatamoresecurewithpopularservicelastpasshackedintwozeroonetiveaccordingtomicrosotttivesevenninepasswordattackstakeplaceeverysecondaddinguptooneeightbillionattacksayearandcybersecurityexpertshavesaidtheweakestlinkishumanbehaviorourtendencytoreusethesamepasswordacrossaccountssoitseasytorememberorcreatepatternstorditterentpasswordsthatareeasytorhackerstoguessweakpasswordsaretheentrypointtorthemajorityotattacksacrossenterpriseandconsumeraccountsjakkalsaidmicrosottappearstobeleadingbyexampleinitsettorttopioneerapasswordlesstutureaccordingtojakkalalmostallotthecompanysownemployeesnowlogintotheircorporateaccountswithoutpasswordsothercompaniessuchasgooglegooglandappleaaplalsootterpasswordalternativessendinganotiticationonanotherdevicetoverityyouridentitytorexamplebutthosesolutionshaventcompletelyreplacedtheneedtotypeoutapasswordjustyet    '"
      ]
     },
     "execution_count": 10,
     "metadata": {},
     "output_type": "execute_result"
    }
   ],
   "source": [
    "var"
   ]
  },
  {
   "cell_type": "code",
   "execution_count": 15,
   "id": "c09291b8",
   "metadata": {},
   "outputs": [
    {
     "ename": "AttributeError",
     "evalue": "'list' object has no attribute 'to_dict'",
     "output_type": "error",
     "traceback": [
      "\u001b[0;31m---------------------------------------------------------------------------\u001b[0m",
      "\u001b[0;31mAttributeError\u001b[0m                            Traceback (most recent call last)",
      "\u001b[0;32m<ipython-input-15-abe30a2b7076>\u001b[0m in \u001b[0;36m<module>\u001b[0;34m\u001b[0m\n\u001b[0;32m----> 1\u001b[0;31m \u001b[0malphabet\u001b[0m \u001b[0;34m=\u001b[0m \u001b[0;34m[\u001b[0m\u001b[0;34m'a'\u001b[0m\u001b[0;34m,\u001b[0m \u001b[0;34m'b'\u001b[0m\u001b[0;34m,\u001b[0m \u001b[0;34m'c'\u001b[0m\u001b[0;34m,\u001b[0m \u001b[0;34m'd'\u001b[0m\u001b[0;34m,\u001b[0m \u001b[0;34m'e'\u001b[0m\u001b[0;34m,\u001b[0m \u001b[0;34m'f'\u001b[0m\u001b[0;34m,\u001b[0m \u001b[0;34m'g'\u001b[0m\u001b[0;34m,\u001b[0m \u001b[0;34m'h'\u001b[0m\u001b[0;34m,\u001b[0m \u001b[0;34m'i'\u001b[0m\u001b[0;34m]\u001b[0m\u001b[0;34m.\u001b[0m\u001b[0mto_dict\u001b[0m\u001b[0;34m(\u001b[0m\u001b[0;34m)\u001b[0m\u001b[0;34m\u001b[0m\u001b[0;34m\u001b[0m\u001b[0m\n\u001b[0m",
      "\u001b[0;31mAttributeError\u001b[0m: 'list' object has no attribute 'to_dict'"
     ]
    }
   ],
   "source": [
    "alphabet = ['a', 'b', 'c', 'd', 'e', 'f', 'g', 'h', 'i'].to_dict()"
   ]
  },
  {
   "cell_type": "code",
   "execution_count": 16,
   "id": "f6dba409",
   "metadata": {},
   "outputs": [],
   "source": [
    "mamali = \"a\""
   ]
  },
  {
   "cell_type": "code",
   "execution_count": null,
   "id": "3ab943a2",
   "metadata": {},
   "outputs": [],
   "source": []
  }
 ],
 "metadata": {
  "kernelspec": {
   "display_name": "Python 3",
   "language": "python",
   "name": "python3"
  },
  "language_info": {
   "codemirror_mode": {
    "name": "ipython",
    "version": 3
   },
   "file_extension": ".py",
   "mimetype": "text/x-python",
   "name": "python",
   "nbconvert_exporter": "python",
   "pygments_lexer": "ipython3",
   "version": "3.8.8"
  }
 },
 "nbformat": 4,
 "nbformat_minor": 5
}
