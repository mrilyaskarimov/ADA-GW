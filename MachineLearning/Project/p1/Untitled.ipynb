{
 "cells": [
  {
   "cell_type": "code",
   "execution_count": 17,
   "id": "06085a5b",
   "metadata": {},
   "outputs": [],
   "source": [
    "import pandas as pd\n"
   ]
  },
  {
   "cell_type": "code",
   "execution_count": 18,
   "id": "73183b35-232f-46ef-a9fa-cd85ea7d1d62",
   "metadata": {},
   "outputs": [],
   "source": [
    "var = 'cnnbusinessmicrosofthasasolutionforthefamiliarproblemofneedingtoremembertoomanypasswordsdoingawaywiththemaltogetherthecompanyannouncedwednesdaythatitwillintroduceapasswordlessaccountoptiontorallusersofseveralpopularservicessuchasmicrosoftoutlookandmicrosoftonedriveinthecomingweeksmicrosoftpreviouslymadethisoptionavailabletocorporateaccountsinmarchyoucannowcompletelyremovethepasswordfromyourmicrosoftaccountvasujakkalthecompanyscorporatevicepresidentotsecuritycomplianceandidentitywroteinablogpostwednesdayinsteadotpasswordsmicrosottmsttwillletuserssignintotheseserviceswitheitherthecompanysauthenticatorappwhichproducesauniyuenumberedlogincodeeverytewsecondsorwithwindowshellowhichletsuserssigninusingtacialrecognitionatingerprintorauniyuepinmicrosottuserscanalsobuyanexternalsecuritykeylikeausbdrivewithloginintormationstoredonitorregisteraphonenumbertowhichmicrosottsendsaveriticationcodethechangetrommicrosottcomesatteraspikeincyberattacksoverthepastyearwiththemajorityotcorporateemployeesworkingtromhomebecauseotthecoronaviruspandemichackershavemanymoreavenuestointiltrateacompanyssystemsandcompromisingpasswordsisoneottheirmostcommonstrategiesmicrosotthasalsohaditsshareotsecurityissuesinrecentmonthswithitsserviceslinkedtomultiplehighprotilehacksandbreachespasswordscanottenenduptorsaleonthedarkwebwheretheyareboughtandusedtohackevenmoreserviceshackershaveevengoneatterpasswordmanagersthataimtomakelogindatamoresecurewithpopularservicelastpasshackedintwozeroonetiveaccordingtomicrosotttivesevenninepasswordattackstakeplaceeverysecondaddinguptooneeightbillionattacksayearandcybersecurityexpertshavesaidtheweakestlinkishumanbehaviorourtendencytoreusethesamepasswordacrossaccountssoitseasytorememberorcreatepatternstorditterentpasswordsthatareeasytorhackerstoguessweakpasswordsaretheentrypointtorthemajorityotattacksacrossenterpriseandconsumeraccountsjakkalsaidmicrosottappearstobeleadingbyexampleinitsettorttopioneerapasswordlesstutureaccordingtojakkalalmostallotthecompanysownemployeesnowlogintotheircorporateaccountswithoutpasswordsothercompaniessuchasgooglegooglandappleaaplalsootterpasswordalternativessendinganotiticationonanotherdevicetoverityyouridentitytorexamplebutthosesolutionshaventcompletelyreplacedtheneedtotypeoutapasswordjustyet'\n",
    "var += \" \"*(5 - len(var)%5)"
   ]
  },
  {
   "cell_type": "code",
   "execution_count": 3,
   "id": "dc302066",
   "metadata": {},
   "outputs": [],
   "source": [
    "df = pd.DataFrame(columns = ['2', '3', '4', '1', '5'])"
   ]
  },
  {
   "cell_type": "code",
   "execution_count": 4,
   "id": "e86db476",
   "metadata": {},
   "outputs": [],
   "source": [
    "start = index = 0\n",
    "for stop in range(5, len(var) + 1, len(df.columns)):\n",
    "    try:\n",
    "        df.loc[index] = [char for char in var[start:stop]]\n",
    "\n",
    "        start  = stop\n",
    "        index += 1 \n",
    "    except:\n",
    "        pass"
   ]
  },
  {
   "cell_type": "code",
   "execution_count": 7,
   "id": "900850e0",
   "metadata": {},
   "outputs": [],
   "source": [
    "empty_str = \"\"\n",
    "\n",
    "for row in df['1']:\n",
    "    empty_str += row\n",
    "    \n",
    "for row in df['2']:\n",
    "    empty_str += row\n",
    "    \n",
    "for row in df['3']:\n",
    "    empty_str += row\n",
    "    \n",
    "for row in df['4']:\n",
    "    empty_str += row\n",
    "    \n",
    "for row in df['5']:\n",
    "    empty_str += row\n"
   ]
  },
  {
   "cell_type": "code",
   "execution_count": 8,
   "id": "740644b0",
   "metadata": {},
   "outputs": [],
   "source": [
    "empty_str = empty_str.replace(' ', '')"
   ]
  },
  {
   "cell_type": "code",
   "execution_count": 9,
   "id": "9c2847f6",
   "metadata": {
    "scrolled": false
   },
   "outputs": [
    {
     "data": {
      "text/plain": [
       "'becfatofioodomoywdaieoecnodettidposoptlsvpavssooomsnvhiecfvleonltpeunhacerearmmsctjloypepdtroannwioteiaarcttlegoeiithpantphuueeooewnwisohusngaoiipoiirtslytlreedwonasdoiaeehionecntarcteeicakraahatoapekrmatovpmcharnolepsmconsseesmrictaasouiscowtvldleplkbhsdoetlhkhhehuoeorsevnaponsamoarutueepaiznertrtsnaraaaecdunhltsryeteaiwskmhrecehewcaniseerprrepohetctskwaeythooacepanruasioptegaietoawetcijlsocnnongtcrctharhmehoonllopottsntaotetiuntabolnemepdetusdycssohootmrlnneemariahaetmanedaitcsdanirsfrpscciotacfdicgsopomhtvbcrctaonmemhsfocfoakhpcrienetpciioapedsossomitsiheehecntirhreiueieyestdeheegsarnngiaumssaonretluitioionrthutcrtsitoegmocaaebtohtwhoopeownmbshorncevyaenrcnsamipostrcntsohsiasisnnttscnoiiohaeswctdroderyoaeaeeiaseotsdghmkiasepavasktrtcimsivnsakeeyniteboayneuetetalsnvudtssarocssteoatsiesdtaregwarenoomiakotiductkirtabdypitoearsrogklatmsmewnertowussrasslgaaltsdrvnatiaeivyiirptethtlyahdpawutnimsalnhipeegmrasdnytlthpncdatlreslctoaesaueehcflnrtrnowmsruaiialoacsruoploewrurtuskeaoacstcyledttbodattwmsslusnerseroyhcaiosymdnetcoholitrniceiaenueioenbencyisvhnrorieeomohosatidcemsotsieaveyiertoeyogheeenudhremvstaoytnpsarotmosemsaotreturthheekmpgtanapoaeusnabeaundcnscchvnesmeatenmeworissewoicnioveewtspesdnoiincedrrxsshkihbireoeasdsoseomrttttnssashruesdttirattssescmcsadoareieltopesdtertkmlhpopeltipeuitwocnugelpasesanednionrceydteltsiacerceteposnniosufelrmetetnssgwhtheanenyiloaweconlrellrsartodooitmeioesdsoiertoiccwlyvpooroanuacnrteiouciaeyelsnyepoiotlsitsvwitmseapcdaublcveorwwlcssinicttrtnpctrauxaukkbelimnetgrnbwmsevioehtiomtpnrcepetmicrmertococaseasmoetitmsedrisdnhomtgioshsecyeemsirseulhicdcarnnpatrwtrgdtkmeekaeerwartoldocipscthdoovogctenpottlveagoglakacsiphaeenueotnrtmsasuoarbceeottwtryaseasshrntjytasreoeojlmspslnxesrirsluadoaoleawlsooroantpotoicogapporwlasiocnoderoeyxehoovoteenooartusrtsiraabfirbopoowtmgroyuwshwnuarsutouoeoriumsukioeeenkrtiytpaaooanmynotetsdyiocvatmsovresimndtrngwsndsdrtwerntsctheautowpcnnrgdrsdinhwlsiutlgonrrynoucsaesiyarigtttorspnrictdrachnortsrkytstsrtjyrtlsioeutriaikaneuitaaysomgwioitoaertldhtrsienisiitthresresstnoeeweebtshvrvhregtaratiagterhlrlacneeadooteisdckcrodpetitaabcyrvdetiaaonyueporcttymreandraraeokosporeptertcrnrnsankacteoabmnttnposucnaattoyeyoihoacsosdepsagodeatareiegitnhvotrtomususnpllteytsje'"
      ]
     },
     "execution_count": 9,
     "metadata": {},
     "output_type": "execute_result"
    }
   ],
   "source": [
    "empty_str"
   ]
  },
  {
   "cell_type": "code",
   "execution_count": 10,
   "id": "89e39779",
   "metadata": {},
   "outputs": [
    {
     "data": {
      "text/plain": [
       "'cnnbusinessmicrosofthasasolutionforthefamiliarproblemofneedingtoremembertoomanypasswordsdoingawaywiththemaltogetherthecompanyannouncedwednesdaythatitwillintroduceapasswordlessaccountoptiontorallusersofseveralpopularservicessuchasmicrosoftoutlookandmicrosoftonedriveinthecomingweeksmicrosoftpreviouslymadethisoptionavailabletocorporateaccountsinmarchyoucannowcompletelyremovethepasswordfromyourmicrosoftaccountvasujakkalthecompanyscorporatevicepresidentotsecuritycomplianceandidentitywroteinablogpostwednesdayinsteadotpasswordsmicrosottmsttwillletuserssignintotheseserviceswitheitherthecompanysauthenticatorappwhichproducesauniyuenumberedlogincodeeverytewsecondsorwithwindowshellowhichletsuserssigninusingtacialrecognitionatingerprintorauniyuepinmicrosottuserscanalsobuyanexternalsecuritykeylikeausbdrivewithloginintormationstoredonitorregisteraphonenumbertowhichmicrosottsendsaveriticationcodethechangetrommicrosottcomesatteraspikeincyberattacksoverthepastyearwiththemajorityotcorporateemployeesworkingtromhomebecauseotthecoronaviruspandemichackershavemanymoreavenuestointiltrateacompanyssystemsandcompromisingpasswordsisoneottheirmostcommonstrategiesmicrosotthasalsohaditsshareotsecurityissuesinrecentmonthswithitsserviceslinkedtomultiplehighprotilehacksandbreachespasswordscanottenenduptorsaleonthedarkwebwheretheyareboughtandusedtohackevenmoreserviceshackershaveevengoneatterpasswordmanagersthataimtomakelogindatamoresecurewithpopularservicelastpasshackedintwozeroonetiveaccordingtomicrosotttivesevenninepasswordattackstakeplaceeverysecondaddinguptooneeightbillionattacksayearandcybersecurityexpertshavesaidtheweakestlinkishumanbehaviorourtendencytoreusethesamepasswordacrossaccountssoitseasytorememberorcreatepatternstorditterentpasswordsthatareeasytorhackerstoguessweakpasswordsaretheentrypointtorthemajorityotattacksacrossenterpriseandconsumeraccountsjakkalsaidmicrosottappearstobeleadingbyexampleinitsettorttopioneerapasswordlesstutureaccordingtojakkalalmostallotthecompanysownemployeesnowlogintotheircorporateaccountswithoutpasswordsothercompaniessuchasgooglegooglandappleaaplalsootterpasswordalternativessendinganotiticationonanotherdevicetoverityyouridentitytorexamplebutthosesolutionshaventcompletelyreplacedtheneedtotypeoutapasswordjustyet    '"
      ]
     },
     "execution_count": 10,
     "metadata": {},
     "output_type": "execute_result"
    }
   ],
   "source": [
    "var"
   ]
  },
  {
   "cell_type": "code",
   "execution_count": 15,
   "id": "eba7416f",
   "metadata": {},
   "outputs": [
    {
     "ename": "AttributeError",
     "evalue": "'list' object has no attribute 'to_dict'",
     "output_type": "error",
     "traceback": [
      "\u001b[0;31m---------------------------------------------------------------------------\u001b[0m",
      "\u001b[0;31mAttributeError\u001b[0m                            Traceback (most recent call last)",
      "\u001b[0;32m<ipython-input-15-abe30a2b7076>\u001b[0m in \u001b[0;36m<module>\u001b[0;34m\u001b[0m\n\u001b[0;32m----> 1\u001b[0;31m \u001b[0malphabet\u001b[0m \u001b[0;34m=\u001b[0m \u001b[0;34m[\u001b[0m\u001b[0;34m'a'\u001b[0m\u001b[0;34m,\u001b[0m \u001b[0;34m'b'\u001b[0m\u001b[0;34m,\u001b[0m \u001b[0;34m'c'\u001b[0m\u001b[0;34m,\u001b[0m \u001b[0;34m'd'\u001b[0m\u001b[0;34m,\u001b[0m \u001b[0;34m'e'\u001b[0m\u001b[0;34m,\u001b[0m \u001b[0;34m'f'\u001b[0m\u001b[0;34m,\u001b[0m \u001b[0;34m'g'\u001b[0m\u001b[0;34m,\u001b[0m \u001b[0;34m'h'\u001b[0m\u001b[0;34m,\u001b[0m \u001b[0;34m'i'\u001b[0m\u001b[0;34m]\u001b[0m\u001b[0;34m.\u001b[0m\u001b[0mto_dict\u001b[0m\u001b[0;34m(\u001b[0m\u001b[0;34m)\u001b[0m\u001b[0;34m\u001b[0m\u001b[0;34m\u001b[0m\u001b[0m\n\u001b[0m",
      "\u001b[0;31mAttributeError\u001b[0m: 'list' object has no attribute 'to_dict'"
     ]
    }
   ],
   "source": [
    "alphabet = ['a', 'b', 'c', 'd', 'e', 'f', 'g', 'h', 'i'].to_dict()"
   ]
  },
  {
   "cell_type": "code",
   "execution_count": 16,
   "id": "5db00cf4",
   "metadata": {},
   "outputs": [],
   "source": [
    "mamali = \"a\""
   ]
  },
  {
   "cell_type": "code",
   "execution_count": null,
   "id": "5b1be615",
   "metadata": {},
   "outputs": [],
   "source": []
  }
 ],
 "metadata": {
  "kernelspec": {
   "display_name": "Python 3",
   "language": "python",
   "name": "python3"
  },
  "language_info": {
   "codemirror_mode": {
    "name": "ipython",
    "version": 3
   },
   "file_extension": ".py",
   "mimetype": "text/x-python",
   "name": "python",
   "nbconvert_exporter": "python",
   "pygments_lexer": "ipython3",
   "version": "3.8.8"
  }
 },
 "nbformat": 4,
 "nbformat_minor": 5
}
