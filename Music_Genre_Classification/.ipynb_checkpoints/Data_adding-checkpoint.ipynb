{
 "cells": [
  {
   "cell_type": "code",
   "execution_count": 13,
   "id": "285fb762",
   "metadata": {},
   "outputs": [],
   "source": [
    "import subprocess\n",
    "import os\n",
    "from pydub.playback import play\n",
    "from pydub import AudioSegment\n",
    "from os import walk, listdir, chdir\n",
    "from os.path import isfile, join\n",
    "import scipy.io.wavfile as wav\n",
    "from tensorflow import keras \n",
    "from sklearn.model_selection import train_test_split\n",
    "import matplotlib.pyplot as plt\n",
    "import matplotlib.axes as axt\n",
    "from python_speech_features import mfcc\n",
    "import pandas as pd\n",
    "import numpy as np\n",
    "from tempfile import TemporaryFile\n",
    "import librosa, librosa.display\n",
    "import json\n",
    "import os\n",
    "import math\n",
    "import pickle\n",
    "import random\n",
    "import operator"
   ]
  },
  {
   "cell_type": "markdown",
   "id": "ee69475f",
   "metadata": {},
   "source": [
    "### How to download ffmpeg on Macbook"
   ]
  },
  {
   "cell_type": "markdown",
   "id": "3905a17b",
   "metadata": {},
   "source": [
    "Check out https://macappstore.org/ffmpeg/"
   ]
  },
  {
   "cell_type": "code",
   "execution_count": 27,
   "id": "19e8f326",
   "metadata": {},
   "outputs": [],
   "source": [
    "# Specify the path of newly added songs and where to store them as .wav\n",
    "new_songs_path = \"/Users/ilyaskarimov/Documents/GitHub/ADA-GW-Fall2020-IlyasKarimov-/Music_Genre_Classification/Data/mugam_original\"\n",
    "wav_songs_path = \"/Users/ilyaskarimov/Documents/GitHub/ADA-GW-Fall2020-IlyasKarimov-/Music_Genre_Classification/Data//Users/ilyaskarimov/Documents/GitHub/ADA-GW-Fall2020-IlyasKarimov-/Music_Genre_Classification/Data/new_genres/mugam\""
   ]
  },
  {
   "cell_type": "code",
   "execution_count": 23,
   "id": "f79c29f2",
   "metadata": {},
   "outputs": [],
   "source": [
    "# Find those song files\n",
    "onlyfiles = [f for f in listdir(new_songs_path) if isfile(join(new_songs_path, f))]"
   ]
  },
  {
   "cell_type": "code",
   "execution_count": 24,
   "id": "f7931f6a",
   "metadata": {
    "scrolled": true
   },
   "outputs": [
    {
     "name": "stdout",
     "output_type": "stream",
     "text": [
      "['10.MAHUR.mp3', '2.HEYRATI.mp3', '14.DASHDI.mp3', '3.QATAR.mp3', '7.SHUSHTAR TASNIFI.mp3', '2.CAHARGAH.mp3', '3.TASNIF MENDE YOXDUR.mp3', '4.TASNIF SHUSHA.mp3', '2.RAHAB 2.mp3', '9.DURUN GEDAK.mp3', '4.HUMAYUN.mp3', '4.ARAQ-PANJIGAH.mp3', '3.MIRZA HUSEYN SEGAHI.mp3', '2.BAYATI-SHIRAZ 2.mp3', '11.SEGAH.mp3', '.DS_Store', '3.BAYATI-SHIRAZ 2.mp3', '7.ARAQ TASNIFI.mp3', '3.MANSURIYYA.mp3', '5.OSMANLI TASNIFI.mp3', '3.ARAQ.mp3', '1.BAYATI-SHIRAZ 3.mp3', '2.BAYATI.mp3', '2.CAHARGAH 2.mp3', '1.ZABUL-SEGAH.mp3', 'VILAYATI-DILKASH.mp3', '4.MANSURIYYA.mp3', '12.MAHUR-HINDI-2.mp3', '2.MIRZA HUSEYN SEGAHI 2.mp3', '9.MAHUR-HINDI.mp3', '1.BAYATI-SHIRAZ 2.mp3', '2.RAHAB.mp3', '7.BUDAQ SARI.mp3', '2.BAYATI-KURD.mp3', '11.BAYATI-SHIRAZ.mp3', '3.BAYATI-ACAM.mp3', '15.YERI, DAM USTA YERI.mp3', '5.MAYE-SHUR.mp3', '4.SEGAH.mp3', '1.SEGAH-ZABUL.mp3', '2.RAST 3.mp3', '13.ZAMINXARA.mp3', '1.CHOBAN-BAYATI.mp3', '4.TASNIF MENDEN OLDU.mp3', '3.SHUR TASNIFI 2.mp3', '2.RAST 2.mp3', '3.SHUSHTAR.mp3', '9.KEREMI.mp3', '2.RAST.mp3', '2.QATAR-BAYATI.mp3', '1.HEYRATI.mp3', '3.SHUR TASNIFI.mp3', '4.CALAL XALIQ.mp3', '10.SHUSHTAR.mp3', '8.CEYRANIM.mp3', '13.TEHRANIM.mp3', '10.SHUSHTAR 2.mp3', '1.SONA BULBULLER.mp3', '3.QARABAG SHIKASTASI.mp3', '1.ARAZBARI.mp3', '3.MIRZA-HUSEYN SEGAHI.mp3', '8.YETIM-SEGAH.mp3', '1.ZABUL-SEGAH 2.mp3', '7.SHIKESTEYI-FARS.mp3', '3.MUXALIF.mp3', '9.TAJ.mp3', '1.ZABUL-SEGAH 3.mp3', '2.MIRZA HUSEYN SEGAHI.mp3', '6.SARENC.mp3', '1.AXSHAM OLDU.mp3', '4.SEGAH TASNIFI.mp3', '1.BAYATI-SHIRAZ.mp3', '2.SOYLE BIR GOREK.mp3', '1.ZABUL-SEGAH 4.mp3', '1.SHAHNAZ.mp3', '3.XUMAR OLDUM.mp3', '2.MAHUR-HINDI.mp3', '14.XUDA DILEM.mp3', '13.MIRZA HUSEYN SEGAHI.mp3', '12.XARIC SEGAH.mp3', '1.ORTA MAHUR.mp3', '1.RAST.mp3', '3.MIRZA HUSEYN SEGAHI 2.mp3', '11.TASNIF ZIL SULTAN.mp3', '3.SAMAYI-SHAMS.mp3', '1.ALMA.mp3', '12.RAHAB.mp3', '2.BAYATI-SHIRAZ.mp3', '6.QARABAG SHIKASTASI.mp3', '5.YERI, DAM USTA YERI.mp3', '2.HEYRATI TASNIFI.mp3', '1.CAHARGAH.mp3', '8.YETIM SEGAH.mp3', '8.AXSHAM OLDU.mp3', '2.DILKASH TASNISI.mp3', '1.MIRZA HUSEYN SEGAHI.mp3', '3.BAYATI-SHIRAZ.mp3', '5.OVSHARI.mp3', '10.TASNIF SATTARXAN.mp3', '6.ARAQ.mp3', '3.SEGAH TASNIFI.mp3']\n"
     ]
    }
   ],
   "source": [
    "print(onlyfiles)"
   ]
  },
  {
   "cell_type": "code",
   "execution_count": 26,
   "id": "a5fc85b4",
   "metadata": {},
   "outputs": [
    {
     "name": "stdout",
     "output_type": "stream",
     "text": [
      "/Users/ilyaskarimov/Documents/GitHub/ADA-GW-Fall2020-IlyasKarimov-/Music_Genre_Classification/Data/mugam_original/10.MAHUR.mp3\n",
      "/Users/ilyaskarimov/Documents/GitHub/ADA-GW-Fall2020-IlyasKarimov-/Music_Genre_Classification/Data/mugam_original/2.HEYRATI.mp3\n",
      "/Users/ilyaskarimov/Documents/GitHub/ADA-GW-Fall2020-IlyasKarimov-/Music_Genre_Classification/Data/mugam_original/14.DASHDI.mp3\n",
      "/Users/ilyaskarimov/Documents/GitHub/ADA-GW-Fall2020-IlyasKarimov-/Music_Genre_Classification/Data/mugam_original/3.QATAR.mp3\n",
      "/Users/ilyaskarimov/Documents/GitHub/ADA-GW-Fall2020-IlyasKarimov-/Music_Genre_Classification/Data/mugam_original/7.SHUSHTAR TASNIFI.mp3\n",
      "/Users/ilyaskarimov/Documents/GitHub/ADA-GW-Fall2020-IlyasKarimov-/Music_Genre_Classification/Data/mugam_original/2.CAHARGAH.mp3\n",
      "/Users/ilyaskarimov/Documents/GitHub/ADA-GW-Fall2020-IlyasKarimov-/Music_Genre_Classification/Data/mugam_original/3.TASNIF MENDE YOXDUR.mp3\n",
      "/Users/ilyaskarimov/Documents/GitHub/ADA-GW-Fall2020-IlyasKarimov-/Music_Genre_Classification/Data/mugam_original/4.TASNIF SHUSHA.mp3\n",
      "/Users/ilyaskarimov/Documents/GitHub/ADA-GW-Fall2020-IlyasKarimov-/Music_Genre_Classification/Data/mugam_original/2.RAHAB 2.mp3\n",
      "/Users/ilyaskarimov/Documents/GitHub/ADA-GW-Fall2020-IlyasKarimov-/Music_Genre_Classification/Data/mugam_original/9.DURUN GEDAK.mp3\n",
      "/Users/ilyaskarimov/Documents/GitHub/ADA-GW-Fall2020-IlyasKarimov-/Music_Genre_Classification/Data/mugam_original/4.HUMAYUN.mp3\n",
      "/Users/ilyaskarimov/Documents/GitHub/ADA-GW-Fall2020-IlyasKarimov-/Music_Genre_Classification/Data/mugam_original/4.ARAQ-PANJIGAH.mp3\n",
      "/Users/ilyaskarimov/Documents/GitHub/ADA-GW-Fall2020-IlyasKarimov-/Music_Genre_Classification/Data/mugam_original/3.MIRZA HUSEYN SEGAHI.mp3\n",
      "/Users/ilyaskarimov/Documents/GitHub/ADA-GW-Fall2020-IlyasKarimov-/Music_Genre_Classification/Data/mugam_original/2.BAYATI-SHIRAZ 2.mp3\n",
      "/Users/ilyaskarimov/Documents/GitHub/ADA-GW-Fall2020-IlyasKarimov-/Music_Genre_Classification/Data/mugam_original/11.SEGAH.mp3\n",
      "/Users/ilyaskarimov/Documents/GitHub/ADA-GW-Fall2020-IlyasKarimov-/Music_Genre_Classification/Data/mugam_original/3.BAYATI-SHIRAZ 2.mp3\n"
     ]
    },
    {
     "ename": "KeyboardInterrupt",
     "evalue": "",
     "output_type": "error",
     "traceback": [
      "\u001b[0;31m---------------------------------------------------------------------------\u001b[0m",
      "\u001b[0;31mKeyboardInterrupt\u001b[0m                         Traceback (most recent call last)",
      "\u001b[0;32m<ipython-input-26-3f4ce6b8e3e3>\u001b[0m in \u001b[0;36m<module>\u001b[0;34m\u001b[0m\n\u001b[1;32m      7\u001b[0m         \u001b[0mprint\u001b[0m\u001b[0;34m(\u001b[0m\u001b[0mxpath\u001b[0m\u001b[0;34m)\u001b[0m\u001b[0;34m\u001b[0m\u001b[0;34m\u001b[0m\u001b[0m\n\u001b[1;32m      8\u001b[0m         \u001b[0mnew\u001b[0m  \u001b[0;34m=\u001b[0m \u001b[0mos\u001b[0m\u001b[0;34m.\u001b[0m\u001b[0mpath\u001b[0m\u001b[0;34m.\u001b[0m\u001b[0mjoin\u001b[0m\u001b[0;34m(\u001b[0m\u001b[0mos\u001b[0m\u001b[0;34m.\u001b[0m\u001b[0mpath\u001b[0m\u001b[0;34m.\u001b[0m\u001b[0mjoin\u001b[0m\u001b[0;34m(\u001b[0m\u001b[0mwav_songs_path\u001b[0m\u001b[0;34m)\u001b[0m\u001b[0;34m,\u001b[0m\u001b[0;34m\"mugam.\"\u001b[0m\u001b[0;34m+\u001b[0m \u001b[0mstr\u001b[0m\u001b[0;34m(\u001b[0m\u001b[0mnumb\u001b[0m\u001b[0;34m)\u001b[0m\u001b[0;34m.\u001b[0m\u001b[0mzfill\u001b[0m\u001b[0;34m(\u001b[0m\u001b[0;36m5\u001b[0m\u001b[0;34m)\u001b[0m \u001b[0;34m+\u001b[0m \u001b[0;34m\".wav\"\u001b[0m \u001b[0;34m)\u001b[0m\u001b[0;34m\u001b[0m\u001b[0;34m\u001b[0m\u001b[0m\n\u001b[0;32m----> 9\u001b[0;31m         \u001b[0maudSeg\u001b[0m \u001b[0;34m=\u001b[0m \u001b[0mAudioSegment\u001b[0m\u001b[0;34m.\u001b[0m\u001b[0mfrom_mp3\u001b[0m\u001b[0;34m(\u001b[0m\u001b[0mxpath\u001b[0m\u001b[0;34m)\u001b[0m\u001b[0;34m\u001b[0m\u001b[0;34m\u001b[0m\u001b[0m\n\u001b[0m\u001b[1;32m     10\u001b[0m         \u001b[0maudSeg\u001b[0m \u001b[0;34m=\u001b[0m \u001b[0maudSeg\u001b[0m\u001b[0;34m[\u001b[0m\u001b[0;36m0\u001b[0m\u001b[0;34m:\u001b[0m\u001b[0maudio_length\u001b[0m\u001b[0;34m]\u001b[0m\u001b[0;34m\u001b[0m\u001b[0;34m\u001b[0m\u001b[0m\n\u001b[1;32m     11\u001b[0m         \u001b[0maudSeg\u001b[0m \u001b[0;34m=\u001b[0m \u001b[0maudSeg\u001b[0m\u001b[0;34m.\u001b[0m\u001b[0mset_frame_rate\u001b[0m\u001b[0;34m(\u001b[0m\u001b[0;36m22050\u001b[0m\u001b[0;34m)\u001b[0m\u001b[0;34m\u001b[0m\u001b[0;34m\u001b[0m\u001b[0m\n",
      "\u001b[0;32m/opt/anaconda3/lib/python3.8/site-packages/pydub/audio_segment.py\u001b[0m in \u001b[0;36mfrom_mp3\u001b[0;34m(cls, file, parameters)\u001b[0m\n\u001b[1;32m    794\u001b[0m     \u001b[0;34m@\u001b[0m\u001b[0mclassmethod\u001b[0m\u001b[0;34m\u001b[0m\u001b[0;34m\u001b[0m\u001b[0m\n\u001b[1;32m    795\u001b[0m     \u001b[0;32mdef\u001b[0m \u001b[0mfrom_mp3\u001b[0m\u001b[0;34m(\u001b[0m\u001b[0mcls\u001b[0m\u001b[0;34m,\u001b[0m \u001b[0mfile\u001b[0m\u001b[0;34m,\u001b[0m \u001b[0mparameters\u001b[0m\u001b[0;34m=\u001b[0m\u001b[0;32mNone\u001b[0m\u001b[0;34m)\u001b[0m\u001b[0;34m:\u001b[0m\u001b[0;34m\u001b[0m\u001b[0;34m\u001b[0m\u001b[0m\n\u001b[0;32m--> 796\u001b[0;31m         \u001b[0;32mreturn\u001b[0m \u001b[0mcls\u001b[0m\u001b[0;34m.\u001b[0m\u001b[0mfrom_file\u001b[0m\u001b[0;34m(\u001b[0m\u001b[0mfile\u001b[0m\u001b[0;34m,\u001b[0m \u001b[0;34m'mp3'\u001b[0m\u001b[0;34m,\u001b[0m \u001b[0mparameters\u001b[0m\u001b[0;34m=\u001b[0m\u001b[0mparameters\u001b[0m\u001b[0;34m)\u001b[0m\u001b[0;34m\u001b[0m\u001b[0;34m\u001b[0m\u001b[0m\n\u001b[0m\u001b[1;32m    797\u001b[0m \u001b[0;34m\u001b[0m\u001b[0m\n\u001b[1;32m    798\u001b[0m     \u001b[0;34m@\u001b[0m\u001b[0mclassmethod\u001b[0m\u001b[0;34m\u001b[0m\u001b[0;34m\u001b[0m\u001b[0m\n",
      "\u001b[0;31mKeyboardInterrupt\u001b[0m: "
     ]
    }
   ],
   "source": [
    "numb = 0\n",
    "audio_length = 30 * 1000 # in milliseconds, 30 seconds\n",
    "for f in onlyfiles: \n",
    "    filename = os.fsdecode(f)\n",
    "    if filename.endswith(\".mp3\"):\n",
    "        xpath = os.path.join(new_songs_path,filename)\n",
    "        print(xpath)\n",
    "        new  = os.path.join(os.path.join(wav_songs_path),\"mugam.\"+ str(numb).zfill(5) + \".wav\" )\n",
    "        audSeg = AudioSegment.from_mp3(xpath)\n",
    "        audSeg = audSeg[0:audio_length]\n",
    "        audSeg = audSeg.set_frame_rate(22050)\n",
    "        audSeg.export(new, format=\"wav\")\n",
    "        numb = numb +  1"
   ]
  },
  {
   "cell_type": "code",
   "execution_count": null,
   "id": "0436adf1",
   "metadata": {},
   "outputs": [],
   "source": []
  }
 ],
 "metadata": {
  "kernelspec": {
   "display_name": "Python 3",
   "language": "python",
   "name": "python3"
  },
  "language_info": {
   "codemirror_mode": {
    "name": "ipython",
    "version": 3
   },
   "file_extension": ".py",
   "mimetype": "text/x-python",
   "name": "python",
   "nbconvert_exporter": "python",
   "pygments_lexer": "ipython3",
   "version": "3.8.8"
  },
  "varInspector": {
   "cols": {
    "lenName": 16,
    "lenType": 16,
    "lenVar": 40
   },
   "kernels_config": {
    "python": {
     "delete_cmd_postfix": "",
     "delete_cmd_prefix": "del ",
     "library": "var_list.py",
     "varRefreshCmd": "print(var_dic_list())"
    },
    "r": {
     "delete_cmd_postfix": ") ",
     "delete_cmd_prefix": "rm(",
     "library": "var_list.r",
     "varRefreshCmd": "cat(var_dic_list()) "
    }
   },
   "types_to_exclude": [
    "module",
    "function",
    "builtin_function_or_method",
    "instance",
    "_Feature"
   ],
   "window_display": false
  }
 },
 "nbformat": 4,
 "nbformat_minor": 5
}
