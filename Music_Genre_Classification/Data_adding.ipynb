{
 "cells": [
  {
   "cell_type": "code",
   "execution_count": 8,
   "id": "285fb762",
   "metadata": {},
   "outputs": [],
   "source": [
    "import subprocess\n",
    "import os\n",
    "from pydub.playback import play\n",
    "from pydub import AudioSegment\n",
    "from os import walk, listdir, chdir\n",
    "from os.path import isfile, join"
   ]
  },
  {
   "cell_type": "markdown",
   "id": "b8c29a2a",
   "metadata": {},
   "source": [
    "### How to download ffmpeg on Macbook"
   ]
  },
  {
   "cell_type": "markdown",
   "id": "77b4602c",
   "metadata": {},
   "source": [
    "Check out https://macappstore.org/ffmpeg/"
   ]
  },
  {
   "cell_type": "code",
   "execution_count": 9,
   "id": "19e8f326",
   "metadata": {},
   "outputs": [],
   "source": [
    "# Specify the path of newly added songs and where to store them as .wav\n",
    "new_songs_path = \"/Users/ilyaskarimov/Documents/GitHub/ADA-GW-Fall2020-IlyasKarimov-/Music_Genre_Classification/Data/new_songs\"\n",
    "wav_songs_path = \"/Users/ilyaskarimov/Documents/GitHub/ADA-GW-Fall2020-IlyasKarimov-/Music_Genre_Classification/Data/genres_new\""
   ]
  },
  {
   "cell_type": "code",
   "execution_count": 10,
   "id": "f79c29f2",
   "metadata": {},
   "outputs": [],
   "source": [
    "# Find those song files\n",
    "onlyfiles = [f for f in listdir(new_songs_path) if isfile(join(new_songs_path, f))]"
   ]
  },
  {
   "cell_type": "code",
   "execution_count": 11,
   "id": "f7931f6a",
   "metadata": {
    "scrolled": true
   },
   "outputs": [
    {
     "name": "stdout",
     "output_type": "stream",
     "text": [
      "['shego_theme.mp3', '.DS_Store', 'asdasdasd.mp3', 'timbaland.mp3']\n"
     ]
    }
   ],
   "source": [
    "print(onlyfiles)"
   ]
  },
  {
   "cell_type": "code",
   "execution_count": 12,
   "id": "8d19ae56",
   "metadata": {},
   "outputs": [
    {
     "name": "stdout",
     "output_type": "stream",
     "text": [
      "\n"
     ]
    }
   ],
   "source": [
    "print()"
   ]
  },
  {
   "cell_type": "code",
   "execution_count": 6,
   "id": "a5fc85b4",
   "metadata": {},
   "outputs": [
    {
     "name": "stdout",
     "output_type": "stream",
     "text": [
      "/Users/ilyaskarimov/Documents/GitHub/ADA-GW-Fall2020-IlyasKarimov-/Music_Genre_Classification/Data/new_songs/shego_theme.mp3\n",
      "/Users/ilyaskarimov/Documents/GitHub/ADA-GW-Fall2020-IlyasKarimov-/Music_Genre_Classification/Data/new_songs/asdasdasd.mp3\n",
      "/Users/ilyaskarimov/Documents/GitHub/ADA-GW-Fall2020-IlyasKarimov-/Music_Genre_Classification/Data/new_songs/timbaland.mp3\n"
     ]
    }
   ],
   "source": [
    "numb = 0\n",
    "for f in onlyfiles: \n",
    "    filename = os.fsdecode(f)\n",
    "    if filename.endswith(\".mp3\"):\n",
    "        xpath = os.path.join(new_songs_path,filename)\n",
    "        print(xpath)\n",
    "        new  = os.path.join(os.path.join(wav_songs_path), str(numb) + \".wav\" )\n",
    "        audSeg = AudioSegment.from_mp3(xpath)\n",
    "        audSeg.export(new, format=\"wav\")\n",
    "        numb = numb +  1"
   ]
  },
  {
   "cell_type": "code",
   "execution_count": 7,
   "id": "a649c1ec",
   "metadata": {},
   "outputs": [
    {
     "name": "stdout",
     "output_type": "stream",
     "text": [
      "/opt/anaconda3/bin:/Library/Frameworks/Python.framework/Versions/3.9/bin:/usr/local/bin:/usr/bin:/bin:/usr/sbin:/sbin:/Applications/VMware Fusion.app/Contents/Public:/usr/local/go/bin:/Library/Apple/usr/bin://Library/Developer/Panda3D/bin:/Library/Frameworks/Mono.framework/Versions/Current/Commands\n"
     ]
    }
   ],
   "source": [
    "print(os.environ['PATH'])"
   ]
  },
  {
   "cell_type": "code",
   "execution_count": null,
   "id": "99c15700",
   "metadata": {},
   "outputs": [],
   "source": []
  }
 ],
 "metadata": {
  "kernelspec": {
   "display_name": "Python 3",
   "language": "python",
   "name": "python3"
  },
  "language_info": {
   "codemirror_mode": {
    "name": "ipython",
    "version": 3
   },
   "file_extension": ".py",
   "mimetype": "text/x-python",
   "name": "python",
   "nbconvert_exporter": "python",
   "pygments_lexer": "ipython3",
   "version": "3.8.8"
  }
 },
 "nbformat": 4,
 "nbformat_minor": 5
}
