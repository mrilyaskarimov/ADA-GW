{
 "cells": [
  {
   "cell_type": "code",
   "execution_count": 14,
   "id": "497649b5-6e4f-4e5d-8eff-4798fa61bcae",
   "metadata": {},
   "outputs": [],
   "source": [
    "import matplotlib.pyplot as plt\n",
    "import numpy as np"
   ]
  },
  {
   "cell_type": "code",
   "execution_count": 20,
   "id": "c123dd8a-61df-4882-a9ba-aac336809531",
   "metadata": {},
   "outputs": [],
   "source": [
    "days = 100 #days \n",
    "beta = 1.0/3.0 #one over the contacts per infected per day\n",
    "gamma = 1.0/14.0 #one over the amount of time it takes to recover\n",
    "dt = 1 #time step in days\n",
    "\n",
    "S = np.zeros(days) #susceptible\n",
    "I = np.zeros(days) #infected\n",
    "R = np.zeros(days) #recovered and removed (dead)"
   ]
  },
  {
   "cell_type": "code",
   "execution_count": 17,
   "id": "2467d30e-0a1e-471f-bdc3-64fd0c5eacc5",
   "metadata": {},
   "outputs": [],
   "source": [
    "for i in range(days - 1):\n",
    "    S[i+1] = S[i] - (beta*(S[i]*I[i])*dt)\n",
    "    I[i+1] = I[i] + (beta*S[i]*I[i] - gamma*I[i])*dt\n",
    "    R[i+1] = R[i] + (gamma*I[i]*dt)"
   ]
  },
  {
   "cell_type": "code",
   "execution_count": null,
   "id": "8f6a62de-d9c7-4ee0-92d2-98d771b5bc2b",
   "metadata": {},
   "outputs": [],
   "source": []
  }
 ],
 "metadata": {
  "kernelspec": {
   "display_name": "Python 3",
   "language": "python",
   "name": "python3"
  },
  "language_info": {
   "codemirror_mode": {
    "name": "ipython",
    "version": 3
   },
   "file_extension": ".py",
   "mimetype": "text/x-python",
   "name": "python",
   "nbconvert_exporter": "python",
   "pygments_lexer": "ipython3",
   "version": "3.8.8"
  }
 },
 "nbformat": 4,
 "nbformat_minor": 5
}
