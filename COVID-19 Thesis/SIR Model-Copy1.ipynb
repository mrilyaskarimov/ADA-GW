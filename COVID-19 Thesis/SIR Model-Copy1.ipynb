{
 "cells": [
  {
   "cell_type": "code",
   "execution_count": 1,
   "id": "497649b5-6e4f-4e5d-8eff-4798fa61bcae",
   "metadata": {},
   "outputs": [],
   "source": [
    "import matplotlib.pyplot as plt\n",
    "import numpy as np"
   ]
  },
  {
   "cell_type": "code",
   "execution_count": 3,
   "id": "2467d30e-0a1e-471f-bdc3-64fd0c5eacc5",
   "metadata": {},
   "outputs": [
    {
     "ename": "IndentationError",
     "evalue": "unexpected indent (<ipython-input-3-ebc4d2e5988f>, line 58)",
     "output_type": "error",
     "traceback": [
      "\u001b[0;36m  File \u001b[0;32m\"<ipython-input-3-ebc4d2e5988f>\"\u001b[0;36m, line \u001b[0;32m58\u001b[0m\n\u001b[0;31m    fig = plt.figure(1);\u001b[0m\n\u001b[0m    ^\u001b[0m\n\u001b[0;31mIndentationError\u001b[0m\u001b[0;31m:\u001b[0m unexpected indent\n"
     ]
    }
   ],
   "source": [
    "def SIR(beta, gamma, days, dt):\n",
    "    npt = int(days/dt)\n",
    "    S = np.zeros(npt) #susceptible\n",
    "    I = np.zeros(npt) #infected\n",
    "    R = np.zeros(npt) #recovered and removed (dead)\n",
    "    t = np.arange(days)*dt #updating time by expected way if dt changes. \n",
    "    \n",
    "    # Initial values\n",
    "    I[0] = 0.0001\n",
    "    S[0] = 1.- I[0]\n",
    "    R[0] = 0.0\n",
    "    \n",
    "    for i in range(0, npt - 1, 1):\n",
    "        S[i+1] = S[i] - (beta*(S[i]*I[i])*dt) # + Sum\n",
    "        I[i+1] = I[i] + (beta*S[i]*I[i] - gamma*I[i])*dt\n",
    "        R[i+1] = R[i] + (gamma*I[i]*dt)\n",
    "#         dS = -(beta*S*I)dt\n",
    "#         dS/dt = -(beta*S*I)\n",
    "\"\"\"\n",
    "Introduce curve to number of vaccination per day. an array with size of number of vaccinated, the number of vaccinated per day. V curve. \n",
    "Subtract from V from S. \n",
    "An array with the same dimension, how with time vaccination decreases. \n",
    "Introduce cuver e, this curve will describe reduction of effectiveness. \n",
    "\n",
    "Pfizer effective = 0.95 (after 6 months, it's reduced by 3 times)\n",
    "\n",
    "Veff = e*V\n",
    "\n",
    "SEIR model. \n",
    "\n",
    "R < 1 \n",
    "R0 = Beta*S0/gamma -> 3\n",
    "R = Beta*!S/gamma <1\n",
    "\n",
    "\n",
    "S! + V = 1 ( V<=1) thinking 100% effective \n",
    "V\n",
    "\n",
    "dI/dt = I(beta*S-gamma) \n",
    "\n",
    "\n",
    "S[i+1] = S[i] - V*dt (let's check whether it is ever negative)\n",
    "person might be susceptible again after vaccination. \n",
    "\n",
    "Sum(over the days of beginning of pandemic and current day) kind of a loop - contains number \n",
    "vaccination protection decreases. \n",
    "\n",
    "numb of vaccination at the first the day become susceptible. \n",
    "\n",
    "\n",
    "Sum = V[0] * (1-e[0]) + V[1] * (1 - e[1])  + ... + V[i] * (1 - e[i])\n",
    "\n",
    "Sum i>=0 (V[i]*(1-e[i]))\n",
    "breakthrough\n",
    "\n",
    "\"\"\"\n",
    "       \n",
    "    fig = plt.figure(1);\n",
    "    fig.clf()\n",
    "    plt.plot(t, S, 'b', lw=3, label = \"Susceptible\")\n",
    "    plt.plot(t, I, 'r', lw=3, label = \"Infected\")\n",
    "    plt.plot(t, R, 'g', lw=3, label = \"Removed + Dead\")\n",
    "    fig.legend()\n",
    "\n",
    "    plt.xlabel(\"Days\")\n",
    "    plt.ylabel(\"Population in Float\")\n",
    "    plt.show()"
   ]
  },
  {
   "cell_type": "code",
   "execution_count": 4,
   "id": "a3e6caf8-a590-40c3-a84a-4ad768df89ee",
   "metadata": {},
   "outputs": [
    {
     "ename": "NameError",
     "evalue": "name 'SIR' is not defined",
     "output_type": "error",
     "traceback": [
      "\u001b[0;31m---------------------------------------------------------------------------\u001b[0m",
      "\u001b[0;31mNameError\u001b[0m                                 Traceback (most recent call last)",
      "\u001b[0;32m<ipython-input-4-1af05b8dac58>\u001b[0m in \u001b[0;36m<module>\u001b[0;34m\u001b[0m\n\u001b[1;32m      6\u001b[0m     \u001b[0mdt\u001b[0m \u001b[0;34m=\u001b[0m \u001b[0;36m1\u001b[0m \u001b[0;31m#time step in days\u001b[0m\u001b[0;34m\u001b[0m\u001b[0;34m\u001b[0m\u001b[0m\n\u001b[1;32m      7\u001b[0m \u001b[0;34m\u001b[0m\u001b[0m\n\u001b[0;32m----> 8\u001b[0;31m     \u001b[0mSIR\u001b[0m\u001b[0;34m(\u001b[0m\u001b[0mbeta\u001b[0m\u001b[0;34m,\u001b[0m \u001b[0mgamma\u001b[0m\u001b[0;34m,\u001b[0m \u001b[0mdays\u001b[0m\u001b[0;34m,\u001b[0m \u001b[0mdt\u001b[0m\u001b[0;34m)\u001b[0m\u001b[0;34m\u001b[0m\u001b[0;34m\u001b[0m\u001b[0m\n\u001b[0m\u001b[1;32m      9\u001b[0m \u001b[0;34m\u001b[0m\u001b[0m\n",
      "\u001b[0;31mNameError\u001b[0m: name 'SIR' is not defined"
     ]
    }
   ],
   "source": [
    "if __name__ == \"__main__\":\n",
    "    \n",
    "    days = 100 #days \n",
    "    beta = 1.0/3.0 #one over the contacts per infected per day\n",
    "    gamma = 1.0/14.0 #one over the amount of time it takes to recover\n",
    "    dt = 1 #time step in days\n",
    "  \n",
    "    SIR(beta, gamma, days, dt)\n",
    "\n"
   ]
  },
  {
   "cell_type": "code",
   "execution_count": null,
   "id": "71849b08-f2f9-43c4-8991-fd01942c585d",
   "metadata": {},
   "outputs": [],
   "source": []
  }
 ],
 "metadata": {
  "kernelspec": {
   "display_name": "Python 3",
   "language": "python",
   "name": "python3"
  },
  "language_info": {
   "codemirror_mode": {
    "name": "ipython",
    "version": 3
   },
   "file_extension": ".py",
   "mimetype": "text/x-python",
   "name": "python",
   "nbconvert_exporter": "python",
   "pygments_lexer": "ipython3",
   "version": "3.8.8"
  }
 },
 "nbformat": 4,
 "nbformat_minor": 5
}
