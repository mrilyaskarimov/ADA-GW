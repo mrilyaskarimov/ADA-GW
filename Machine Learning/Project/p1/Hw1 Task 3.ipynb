{
 "cells": [
  {
   "cell_type": "code",
   "execution_count": 9,
   "id": "dd907e95",
   "metadata": {},
   "outputs": [],
   "source": [
    "dictionary = {'a':1,'b':2,'c':3,'d':4,'e':5,'f':6,'g':7,'h':8,'i':9,'j':10,'k':11,'l':12,'m':13,'n':14,'o':15,'p':16,'q':17,'r':18,'s':19,'t':20,'u':21,'v':22,'w':23,'x':24,'y':25,'z':26}"
   ]
  },
  {
   "cell_type": "code",
   "execution_count": 10,
   "id": "a1ffe875",
   "metadata": {},
   "outputs": [],
   "source": [
    "# for k,v in dictionary.items():\n",
    "#     print(k, \" \", v)"
   ]
  },
  {
   "cell_type": "code",
   "execution_count": 11,
   "id": "8aa53d63",
   "metadata": {},
   "outputs": [],
   "source": [
    "var = 'cnnbusinessmicrosofthasasolutionforthefamiliarproblemofneedingtoremembertoomanypasswordsdoingawaywiththemaltogetherthecompanyannouncedwednesdaythatitwillintroduceapasswordlessaccountoptiontorallusersofseveralpopularservicessuchasmicrosoftoutlookandmicrosoftonedriveinthecomingweeksmicrosoftpreviouslymadethisoptionavailabletocorporateaccountsinmarchyoucannowcompletelyremovethepasswordfromyourmicrosoftaccountvasujakkalthecompanyscorporatevicepresidentotsecuritycomplianceandidentitywroteinablogpostwednesdayinsteadotpasswordsmicrosottmsttwillletuserssignintotheseserviceswitheitherthecompanysauthenticatorappwhichproducesauniyuenumberedlogincodeeverytewsecondsorwithwindowshellowhichletsuserssigninusingtacialrecognitionatingerprintorauniyuepinmicrosottuserscanalsobuyanexternalsecuritykeylikeausbdrivewithloginintormationstoredonitorregisteraphonenumbertowhichmicrosottsendsaveriticationcodethechangetrommicrosottcomesatteraspikeincyberattacksoverthepastyearwiththemajorityotcorporateemployeesworkingtromhomebecauseotthecoronaviruspandemichackershavemanymoreavenuestointiltrateacompanyssystemsandcompromisingpasswordsisoneottheirmostcommonstrategiesmicrosotthasalsohaditsshareotsecurityissuesinrecentmonthswithitsserviceslinkedtomultiplehighprotilehacksandbreachespasswordscanottenenduptorsaleonthedarkwebwheretheyareboughtandusedtohackevenmoreserviceshackershaveevengoneatterpasswordmanagersthataimtomakelogindatamoresecurewithpopularservicelastpasshackedintwozeroonetiveaccordingtomicrosotttivesevenninepasswordattackstakeplaceeverysecondaddinguptooneeightbillionattacksayearandcybersecurityexpertshavesaidtheweakestlinkishumanbehaviorourtendencytoreusethesamepasswordacrossaccountssoitseasytorememberorcreatepatternstorditterentpasswordsthatareeasytorhackerstoguessweakpasswordsaretheentrypointtorthemajorityotattacksacrossenterpriseandconsumeraccountsjakkalsaidmicrosottappearstobeleadingbyexampleinitsettorttopioneerapasswordlesstutureaccordingtojakkalalmostallotthecompanysownemployeesnowlogintotheircorporateaccountswithoutpasswordsothercompaniessuchasgooglegooglandappleaaplalsootterpasswordalternativessendinganotiticationonanotherdevicetoverityyouridentitytorexamplebutthosesolutionshaventcompletelyreplacedtheneedtotypeoutapasswordjustyet'"
   ]
  },
  {
   "cell_type": "code",
   "execution_count": 12,
   "id": "751c4cdd",
   "metadata": {},
   "outputs": [],
   "source": [
    "empty_string = \"\"\n",
    "key_size = 5"
   ]
  },
  {
   "cell_type": "code",
   "execution_count": 14,
   "id": "0d93083d",
   "metadata": {},
   "outputs": [],
   "source": [
    "for letter in var: \n",
    "#     print(letter)\n",
    "    new_letter_index = (dictionary[letter] + key_size)%26\n",
    "    key = [k for k,v in dictionary.items() if v == new_letter_index]\n",
    "    listToStr = ''.join(map(str, key))\n",
    "    empty_string = empty_string + listToStr"
   ]
  },
  {
   "cell_type": "code",
   "execution_count": 7,
   "id": "294ff90b",
   "metadata": {},
   "outputs": [
    {
     "data": {
      "text/plain": [
       "'hssgxnsjxxrnhwtxtkymfxfxtqyntsktwymjkfrnqnfwuwtgqjrtksjjinslytwjrjrgjwyttrfsdufxxbtwixitnslfbfdbnymymjrfqytljymjwymjhtrufsdfsstshjibjisjxifdymfynybnqqnsywtihjfufxxbtwiqjxxfhhtsytuyntsytwfqqxjwxtkxjajwfqutuqfwxjwanhjxxhmfxrnhwtxtkytyqttpfsirnhwtxtkytsjiwnajnsymjhtrnslbjjpxrnhwtxtkyuwjantxqdrfijymnxtuyntsfafnqfgqjythtwutwfyjfhhtsyxnsrfwhmdthfsstbhtruqjyjqdwjrtajymjufxxbtwikwtrdtwrnhwtxtkyfhhtsyafxofppfqymjhtrufsdxhtwutwfyjanhjuwjxnijsytyxjhwnydhtruqnfshjfsinijsynydbwtyjnsfgqtlutxybjisjxifdnsxyjfityufxxbtwixrnhwtxtyyrxyybnqqqjyxjwxxnlsnsytymjxjxjwanhjxbnymjnymjwymjhtrufsdxfymjsynhfytwfuubmnhmuwtihjxfsndjsrgjwjiqtlnshtijjajwdyjbxjhtsixtwbnymbnsitbxmjqqtbmnhmqjyxxjwxxnlsnsxnslyfhnfqwjhtlsnyntsfynsljwuwnsytwfsndjunsrnhwtxtyyxjwxhfsfqxtgdfsjcyjwsfqxjhwnydpjdqnpjfxgiwnajbnymqtlnsnsytwrfyntsxytwjitsnytwwjlnxyjwfumtsjsrgjwytbmnhmrnhwtxtyyxjsixfajwnynhfyntshtijymjhmfsljywtrrnhwtxtyyhtrjxfyyjwfxunpjnshdgjwfyyfhpxtajwymjufxydjfwbnymymjrfotwnydtyhtwutwfyjjruqtdjjxbtwpnslywtrmtrjgjhfxjtyymjhtwtsfanwxufsijrnhmfhpjwxmfajrfsdrtwjfajsjxytnsynqywfyjfhtrufsdxxdxyjrxfsihtruwtrnxnslufxxbtwixnxtsjtyymjnwrtxyhtrrtsxywfyjlnjxrnhwtxtyymfxfqxtmfinyxxmfwjtyxjhwnydnxxjxnswjhjsyrtsymxbnymnyxxjwanhjxqnspjiytrqynuqjmnlmuwtynqjmfhpxfsigwjfhmjxufxxbtwixhfstyyjsjsiuytwxfqjtsymjifwpbjgbmjwjymjdfwjgtlmyfsixjiytmfhpjajsrtwjxjwanhjxmfhpjwxmfajjajsltsjfyyjwufxxbtwirfsfljwxymfyfnrytrfpjqtlnsifyfrtwjxjhwjbnymutuqfwxjwanhjqfxyufxxmfhpjinsybtejwttsjynajfhhtwinslytrnhwtxtyyynajxjajssnsjufxxbtwifyyfhpxyfpjuqfhjjajwdxjhtsifiinsluyttsjjnlmygnqqntsfyyfhpxfdjfwfsihdgjwxjhwnydjcujwyxmfajxfniymjbjfpjxyqnspnxmrfsgjmfantwtwyjsijshdytwjxjymjxfrjufxxbtwifhwtxxfhhtsyxxtnyxjfxdytwjrjrgjwtwhwjfyjufyyjwsxytwinyyjwjsyufxxbtwixymfyfwjjfxdytwmfhpjwxytljxxbjfpufxxbtwixfwjymjjsywdutnsyytwymjrfotwnydtyfyyfhpxfhwtxxjsyjwuwnxjfsihtsxrjwfhhtsyxofppfqxfnirnhwtxtyyfuujfwxytgjqjfinslgdjcfruqjnsnyxjyytwyytuntsjjwfufxxbtwiqjxxyywjfhhtwinslytofppfqfqrtxyfqqtyymjhtrufsdxtbsjruqtdjjxstbqtlnsytymjnwhtwutwfyjfhhtsyxbnymtyufxxbtwixtymjwhtrufsnjxxhmfxlttlqjlttlqfsifuuqjffuqfqxttyyjwufxxbtwifqyjwsfynajxxjsinslfstynynhfyntstsfstymjwijanhjytajwnyddtwnijsynydytwjcfruqjgyymtxjxtqyntsxmfajsyhtruqjyjqdwjuqfhjiymjsjjiytydujtyfufxxbtwioxydjy'"
      ]
     },
     "execution_count": 7,
     "metadata": {},
     "output_type": "execute_result"
    }
   ],
   "source": [
    "empty_string"
   ]
  },
  {
   "cell_type": "code",
   "execution_count": null,
   "id": "53f6f46d",
   "metadata": {},
   "outputs": [],
   "source": []
  },
  {
   "cell_type": "code",
   "execution_count": null,
   "id": "972478cd",
   "metadata": {},
   "outputs": [],
   "source": []
  }
 ],
 "metadata": {
  "kernelspec": {
   "display_name": "Python 3",
   "language": "python",
   "name": "python3"
  },
  "language_info": {
   "codemirror_mode": {
    "name": "ipython",
    "version": 3
   },
   "file_extension": ".py",
   "mimetype": "text/x-python",
   "name": "python",
   "nbconvert_exporter": "python",
   "pygments_lexer": "ipython3",
   "version": "3.8.8"
  }
 },
 "nbformat": 4,
 "nbformat_minor": 5
}
